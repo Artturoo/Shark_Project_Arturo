{
 "cells": [
  {
   "cell_type": "code",
   "execution_count": 1,
   "id": "1065b023",
   "metadata": {},
   "outputs": [],
   "source": [
    "import pandas as pd\n",
    "import numpy as np\n",
    "import warnings\n",
    "warnings.filterwarnings('ignore')\n",
    "import pylab as plt\n",
    "import seaborn as sns"
   ]
  },
  {
   "cell_type": "code",
   "execution_count": null,
   "id": "7dc2235a",
   "metadata": {},
   "outputs": [],
   "source": []
  },
  {
   "cell_type": "code",
   "execution_count": 2,
   "id": "d8166d57",
   "metadata": {},
   "outputs": [],
   "source": [
    "shark_ori= pd.read_csv('src/attacks.csv', encoding='latin1') "
   ]
  },
  {
   "cell_type": "code",
   "execution_count": 3,
   "id": "51237973",
   "metadata": {},
   "outputs": [
    {
     "data": {
      "text/plain": [
       "(25723, 24)"
      ]
     },
     "execution_count": 3,
     "metadata": {},
     "output_type": "execute_result"
    }
   ],
   "source": [
    "shark_ori.shape"
   ]
  },
  {
   "cell_type": "code",
   "execution_count": 4,
   "id": "36696d16",
   "metadata": {},
   "outputs": [
    {
     "name": "stdout",
     "output_type": "stream",
     "text": [
      "<class 'pandas.core.frame.DataFrame'>\n",
      "RangeIndex: 25723 entries, 0 to 25722\n",
      "Data columns (total 24 columns):\n",
      " #   Column                  Non-Null Count  Dtype  \n",
      "---  ------                  --------------  -----  \n",
      " 0   Case Number             8702 non-null   object \n",
      " 1   Date                    6302 non-null   object \n",
      " 2   Year                    6300 non-null   float64\n",
      " 3   Type                    6298 non-null   object \n",
      " 4   Country                 6252 non-null   object \n",
      " 5   Area                    5847 non-null   object \n",
      " 6   Location                5762 non-null   object \n",
      " 7   Activity                5758 non-null   object \n",
      " 8   Name                    6092 non-null   object \n",
      " 9   Sex                     5737 non-null   object \n",
      " 10  Age                     3471 non-null   object \n",
      " 11  Injury                  6274 non-null   object \n",
      " 12  Fatal (Y/N)             5763 non-null   object \n",
      " 13  Time                    2948 non-null   object \n",
      " 14  Species                 3464 non-null   object \n",
      " 15  Investigator or Source  6285 non-null   object \n",
      " 16  pdf                     6302 non-null   object \n",
      " 17  href formula            6301 non-null   object \n",
      " 18  href                    6302 non-null   object \n",
      " 19  Case Number.1           6302 non-null   object \n",
      " 20  Case Number.2           6302 non-null   object \n",
      " 21  original order          6309 non-null   float64\n",
      " 22  Unnamed: 22             1 non-null      object \n",
      " 23  Unnamed: 23             2 non-null      object \n",
      "dtypes: float64(2), object(22)\n",
      "memory usage: 4.7+ MB\n"
     ]
    }
   ],
   "source": [
    "shark_ori.info()"
   ]
  },
  {
   "cell_type": "code",
   "execution_count": 5,
   "id": "93ea7c8a",
   "metadata": {},
   "outputs": [
    {
     "data": {
      "text/html": [
       "<div>\n",
       "<style scoped>\n",
       "    .dataframe tbody tr th:only-of-type {\n",
       "        vertical-align: middle;\n",
       "    }\n",
       "\n",
       "    .dataframe tbody tr th {\n",
       "        vertical-align: top;\n",
       "    }\n",
       "\n",
       "    .dataframe thead th {\n",
       "        text-align: right;\n",
       "    }\n",
       "</style>\n",
       "<table border=\"1\" class=\"dataframe\">\n",
       "  <thead>\n",
       "    <tr style=\"text-align: right;\">\n",
       "      <th></th>\n",
       "      <th>Case Number</th>\n",
       "      <th>Date</th>\n",
       "      <th>Year</th>\n",
       "      <th>Type</th>\n",
       "      <th>Country</th>\n",
       "      <th>Area</th>\n",
       "      <th>Location</th>\n",
       "      <th>Activity</th>\n",
       "      <th>Name</th>\n",
       "      <th>Sex</th>\n",
       "      <th>Age</th>\n",
       "      <th>Injury</th>\n",
       "      <th>Fatal (Y/N)</th>\n",
       "      <th>Time</th>\n",
       "      <th>Species</th>\n",
       "      <th>Investigator or Source</th>\n",
       "      <th>pdf</th>\n",
       "      <th>href formula</th>\n",
       "      <th>href</th>\n",
       "      <th>Case Number.1</th>\n",
       "      <th>Case Number.2</th>\n",
       "      <th>original order</th>\n",
       "      <th>Unnamed: 22</th>\n",
       "      <th>Unnamed: 23</th>\n",
       "    </tr>\n",
       "  </thead>\n",
       "  <tbody>\n",
       "    <tr>\n",
       "      <th>0</th>\n",
       "      <td>2018.06.25</td>\n",
       "      <td>25-Jun-2018</td>\n",
       "      <td>2018.0</td>\n",
       "      <td>Boating</td>\n",
       "      <td>USA</td>\n",
       "      <td>California</td>\n",
       "      <td>Oceanside, San Diego County</td>\n",
       "      <td>Paddling</td>\n",
       "      <td>Julie Wolfe</td>\n",
       "      <td>F</td>\n",
       "      <td>57</td>\n",
       "      <td>No injury to occupant, outrigger canoe and pad...</td>\n",
       "      <td>N</td>\n",
       "      <td>18h00</td>\n",
       "      <td>White shark</td>\n",
       "      <td>R. Collier, GSAF</td>\n",
       "      <td>2018.06.25-Wolfe.pdf</td>\n",
       "      <td>http://sharkattackfile.net/spreadsheets/pdf_di...</td>\n",
       "      <td>http://sharkattackfile.net/spreadsheets/pdf_di...</td>\n",
       "      <td>2018.06.25</td>\n",
       "      <td>2018.06.25</td>\n",
       "      <td>6303.0</td>\n",
       "      <td>NaN</td>\n",
       "      <td>NaN</td>\n",
       "    </tr>\n",
       "    <tr>\n",
       "      <th>1</th>\n",
       "      <td>2018.06.18</td>\n",
       "      <td>18-Jun-2018</td>\n",
       "      <td>2018.0</td>\n",
       "      <td>Unprovoked</td>\n",
       "      <td>USA</td>\n",
       "      <td>Georgia</td>\n",
       "      <td>St. Simon Island, Glynn County</td>\n",
       "      <td>Standing</td>\n",
       "      <td>Adyson McNeely</td>\n",
       "      <td>F</td>\n",
       "      <td>11</td>\n",
       "      <td>Minor injury to left thigh</td>\n",
       "      <td>N</td>\n",
       "      <td>14h00  -15h00</td>\n",
       "      <td>NaN</td>\n",
       "      <td>K.McMurray, TrackingSharks.com</td>\n",
       "      <td>2018.06.18-McNeely.pdf</td>\n",
       "      <td>http://sharkattackfile.net/spreadsheets/pdf_di...</td>\n",
       "      <td>http://sharkattackfile.net/spreadsheets/pdf_di...</td>\n",
       "      <td>2018.06.18</td>\n",
       "      <td>2018.06.18</td>\n",
       "      <td>6302.0</td>\n",
       "      <td>NaN</td>\n",
       "      <td>NaN</td>\n",
       "    </tr>\n",
       "    <tr>\n",
       "      <th>2</th>\n",
       "      <td>2018.06.09</td>\n",
       "      <td>09-Jun-2018</td>\n",
       "      <td>2018.0</td>\n",
       "      <td>Invalid</td>\n",
       "      <td>USA</td>\n",
       "      <td>Hawaii</td>\n",
       "      <td>Habush, Oahu</td>\n",
       "      <td>Surfing</td>\n",
       "      <td>John Denges</td>\n",
       "      <td>M</td>\n",
       "      <td>48</td>\n",
       "      <td>Injury to left lower leg from surfboard skeg</td>\n",
       "      <td>N</td>\n",
       "      <td>07h45</td>\n",
       "      <td>NaN</td>\n",
       "      <td>K.McMurray, TrackingSharks.com</td>\n",
       "      <td>2018.06.09-Denges.pdf</td>\n",
       "      <td>http://sharkattackfile.net/spreadsheets/pdf_di...</td>\n",
       "      <td>http://sharkattackfile.net/spreadsheets/pdf_di...</td>\n",
       "      <td>2018.06.09</td>\n",
       "      <td>2018.06.09</td>\n",
       "      <td>6301.0</td>\n",
       "      <td>NaN</td>\n",
       "      <td>NaN</td>\n",
       "    </tr>\n",
       "    <tr>\n",
       "      <th>3</th>\n",
       "      <td>2018.06.08</td>\n",
       "      <td>08-Jun-2018</td>\n",
       "      <td>2018.0</td>\n",
       "      <td>Unprovoked</td>\n",
       "      <td>AUSTRALIA</td>\n",
       "      <td>New South Wales</td>\n",
       "      <td>Arrawarra Headland</td>\n",
       "      <td>Surfing</td>\n",
       "      <td>male</td>\n",
       "      <td>M</td>\n",
       "      <td>NaN</td>\n",
       "      <td>Minor injury to lower leg</td>\n",
       "      <td>N</td>\n",
       "      <td>NaN</td>\n",
       "      <td>2 m shark</td>\n",
       "      <td>B. Myatt, GSAF</td>\n",
       "      <td>2018.06.08-Arrawarra.pdf</td>\n",
       "      <td>http://sharkattackfile.net/spreadsheets/pdf_di...</td>\n",
       "      <td>http://sharkattackfile.net/spreadsheets/pdf_di...</td>\n",
       "      <td>2018.06.08</td>\n",
       "      <td>2018.06.08</td>\n",
       "      <td>6300.0</td>\n",
       "      <td>NaN</td>\n",
       "      <td>NaN</td>\n",
       "    </tr>\n",
       "    <tr>\n",
       "      <th>4</th>\n",
       "      <td>2018.06.04</td>\n",
       "      <td>04-Jun-2018</td>\n",
       "      <td>2018.0</td>\n",
       "      <td>Provoked</td>\n",
       "      <td>MEXICO</td>\n",
       "      <td>Colima</td>\n",
       "      <td>La Ticla</td>\n",
       "      <td>Free diving</td>\n",
       "      <td>Gustavo Ramos</td>\n",
       "      <td>M</td>\n",
       "      <td>NaN</td>\n",
       "      <td>Lacerations to leg &amp; hand shark PROVOKED INCIDENT</td>\n",
       "      <td>N</td>\n",
       "      <td>NaN</td>\n",
       "      <td>Tiger shark, 3m</td>\n",
       "      <td>A .Kipper</td>\n",
       "      <td>2018.06.04-Ramos.pdf</td>\n",
       "      <td>http://sharkattackfile.net/spreadsheets/pdf_di...</td>\n",
       "      <td>http://sharkattackfile.net/spreadsheets/pdf_di...</td>\n",
       "      <td>2018.06.04</td>\n",
       "      <td>2018.06.04</td>\n",
       "      <td>6299.0</td>\n",
       "      <td>NaN</td>\n",
       "      <td>NaN</td>\n",
       "    </tr>\n",
       "    <tr>\n",
       "      <th>...</th>\n",
       "      <td>...</td>\n",
       "      <td>...</td>\n",
       "      <td>...</td>\n",
       "      <td>...</td>\n",
       "      <td>...</td>\n",
       "      <td>...</td>\n",
       "      <td>...</td>\n",
       "      <td>...</td>\n",
       "      <td>...</td>\n",
       "      <td>...</td>\n",
       "      <td>...</td>\n",
       "      <td>...</td>\n",
       "      <td>...</td>\n",
       "      <td>...</td>\n",
       "      <td>...</td>\n",
       "      <td>...</td>\n",
       "      <td>...</td>\n",
       "      <td>...</td>\n",
       "      <td>...</td>\n",
       "      <td>...</td>\n",
       "      <td>...</td>\n",
       "      <td>...</td>\n",
       "      <td>...</td>\n",
       "      <td>...</td>\n",
       "    </tr>\n",
       "    <tr>\n",
       "      <th>25718</th>\n",
       "      <td>NaN</td>\n",
       "      <td>NaN</td>\n",
       "      <td>NaN</td>\n",
       "      <td>NaN</td>\n",
       "      <td>NaN</td>\n",
       "      <td>NaN</td>\n",
       "      <td>NaN</td>\n",
       "      <td>NaN</td>\n",
       "      <td>NaN</td>\n",
       "      <td>NaN</td>\n",
       "      <td>NaN</td>\n",
       "      <td>NaN</td>\n",
       "      <td>NaN</td>\n",
       "      <td>NaN</td>\n",
       "      <td>NaN</td>\n",
       "      <td>NaN</td>\n",
       "      <td>NaN</td>\n",
       "      <td>NaN</td>\n",
       "      <td>NaN</td>\n",
       "      <td>NaN</td>\n",
       "      <td>NaN</td>\n",
       "      <td>NaN</td>\n",
       "      <td>NaN</td>\n",
       "      <td>NaN</td>\n",
       "    </tr>\n",
       "    <tr>\n",
       "      <th>25719</th>\n",
       "      <td>NaN</td>\n",
       "      <td>NaN</td>\n",
       "      <td>NaN</td>\n",
       "      <td>NaN</td>\n",
       "      <td>NaN</td>\n",
       "      <td>NaN</td>\n",
       "      <td>NaN</td>\n",
       "      <td>NaN</td>\n",
       "      <td>NaN</td>\n",
       "      <td>NaN</td>\n",
       "      <td>NaN</td>\n",
       "      <td>NaN</td>\n",
       "      <td>NaN</td>\n",
       "      <td>NaN</td>\n",
       "      <td>NaN</td>\n",
       "      <td>NaN</td>\n",
       "      <td>NaN</td>\n",
       "      <td>NaN</td>\n",
       "      <td>NaN</td>\n",
       "      <td>NaN</td>\n",
       "      <td>NaN</td>\n",
       "      <td>NaN</td>\n",
       "      <td>NaN</td>\n",
       "      <td>NaN</td>\n",
       "    </tr>\n",
       "    <tr>\n",
       "      <th>25720</th>\n",
       "      <td>NaN</td>\n",
       "      <td>NaN</td>\n",
       "      <td>NaN</td>\n",
       "      <td>NaN</td>\n",
       "      <td>NaN</td>\n",
       "      <td>NaN</td>\n",
       "      <td>NaN</td>\n",
       "      <td>NaN</td>\n",
       "      <td>NaN</td>\n",
       "      <td>NaN</td>\n",
       "      <td>NaN</td>\n",
       "      <td>NaN</td>\n",
       "      <td>NaN</td>\n",
       "      <td>NaN</td>\n",
       "      <td>NaN</td>\n",
       "      <td>NaN</td>\n",
       "      <td>NaN</td>\n",
       "      <td>NaN</td>\n",
       "      <td>NaN</td>\n",
       "      <td>NaN</td>\n",
       "      <td>NaN</td>\n",
       "      <td>NaN</td>\n",
       "      <td>NaN</td>\n",
       "      <td>NaN</td>\n",
       "    </tr>\n",
       "    <tr>\n",
       "      <th>25721</th>\n",
       "      <td>NaN</td>\n",
       "      <td>NaN</td>\n",
       "      <td>NaN</td>\n",
       "      <td>NaN</td>\n",
       "      <td>NaN</td>\n",
       "      <td>NaN</td>\n",
       "      <td>NaN</td>\n",
       "      <td>NaN</td>\n",
       "      <td>NaN</td>\n",
       "      <td>NaN</td>\n",
       "      <td>NaN</td>\n",
       "      <td>NaN</td>\n",
       "      <td>NaN</td>\n",
       "      <td>NaN</td>\n",
       "      <td>NaN</td>\n",
       "      <td>NaN</td>\n",
       "      <td>NaN</td>\n",
       "      <td>NaN</td>\n",
       "      <td>NaN</td>\n",
       "      <td>NaN</td>\n",
       "      <td>NaN</td>\n",
       "      <td>NaN</td>\n",
       "      <td>NaN</td>\n",
       "      <td>NaN</td>\n",
       "    </tr>\n",
       "    <tr>\n",
       "      <th>25722</th>\n",
       "      <td>xx</td>\n",
       "      <td>NaN</td>\n",
       "      <td>NaN</td>\n",
       "      <td>NaN</td>\n",
       "      <td>NaN</td>\n",
       "      <td>NaN</td>\n",
       "      <td>NaN</td>\n",
       "      <td>NaN</td>\n",
       "      <td>NaN</td>\n",
       "      <td>NaN</td>\n",
       "      <td>NaN</td>\n",
       "      <td>NaN</td>\n",
       "      <td>NaN</td>\n",
       "      <td>NaN</td>\n",
       "      <td>NaN</td>\n",
       "      <td>NaN</td>\n",
       "      <td>NaN</td>\n",
       "      <td>NaN</td>\n",
       "      <td>NaN</td>\n",
       "      <td>NaN</td>\n",
       "      <td>NaN</td>\n",
       "      <td>NaN</td>\n",
       "      <td>NaN</td>\n",
       "      <td>NaN</td>\n",
       "    </tr>\n",
       "  </tbody>\n",
       "</table>\n",
       "<p>25723 rows × 24 columns</p>\n",
       "</div>"
      ],
      "text/plain": [
       "      Case Number         Date    Year        Type    Country  \\\n",
       "0      2018.06.25  25-Jun-2018  2018.0     Boating        USA   \n",
       "1      2018.06.18  18-Jun-2018  2018.0  Unprovoked        USA   \n",
       "2      2018.06.09  09-Jun-2018  2018.0     Invalid        USA   \n",
       "3      2018.06.08  08-Jun-2018  2018.0  Unprovoked  AUSTRALIA   \n",
       "4      2018.06.04  04-Jun-2018  2018.0    Provoked     MEXICO   \n",
       "...           ...          ...     ...         ...        ...   \n",
       "25718         NaN          NaN     NaN         NaN        NaN   \n",
       "25719         NaN          NaN     NaN         NaN        NaN   \n",
       "25720         NaN          NaN     NaN         NaN        NaN   \n",
       "25721         NaN          NaN     NaN         NaN        NaN   \n",
       "25722          xx          NaN     NaN         NaN        NaN   \n",
       "\n",
       "                  Area                        Location     Activity  \\\n",
       "0           California     Oceanside, San Diego County     Paddling   \n",
       "1              Georgia  St. Simon Island, Glynn County     Standing   \n",
       "2               Hawaii                    Habush, Oahu      Surfing   \n",
       "3      New South Wales              Arrawarra Headland      Surfing   \n",
       "4               Colima                        La Ticla  Free diving   \n",
       "...                ...                             ...          ...   \n",
       "25718              NaN                             NaN          NaN   \n",
       "25719              NaN                             NaN          NaN   \n",
       "25720              NaN                             NaN          NaN   \n",
       "25721              NaN                             NaN          NaN   \n",
       "25722              NaN                             NaN          NaN   \n",
       "\n",
       "                  Name Sex   Age  \\\n",
       "0          Julie Wolfe    F   57   \n",
       "1      Adyson McNeely     F   11   \n",
       "2          John Denges    M   48   \n",
       "3                 male    M  NaN   \n",
       "4       Gustavo Ramos     M  NaN   \n",
       "...                ...  ...  ...   \n",
       "25718              NaN  NaN  NaN   \n",
       "25719              NaN  NaN  NaN   \n",
       "25720              NaN  NaN  NaN   \n",
       "25721              NaN  NaN  NaN   \n",
       "25722              NaN  NaN  NaN   \n",
       "\n",
       "                                                  Injury Fatal (Y/N)  \\\n",
       "0      No injury to occupant, outrigger canoe and pad...           N   \n",
       "1                             Minor injury to left thigh           N   \n",
       "2           Injury to left lower leg from surfboard skeg           N   \n",
       "3                              Minor injury to lower leg           N   \n",
       "4      Lacerations to leg & hand shark PROVOKED INCIDENT           N   \n",
       "...                                                  ...         ...   \n",
       "25718                                                NaN         NaN   \n",
       "25719                                                NaN         NaN   \n",
       "25720                                                NaN         NaN   \n",
       "25721                                                NaN         NaN   \n",
       "25722                                                NaN         NaN   \n",
       "\n",
       "                Time         Species           Investigator or Source  \\\n",
       "0              18h00      White shark                R. Collier, GSAF   \n",
       "1      14h00  -15h00              NaN  K.McMurray, TrackingSharks.com   \n",
       "2              07h45              NaN  K.McMurray, TrackingSharks.com   \n",
       "3                NaN        2 m shark                  B. Myatt, GSAF   \n",
       "4                NaN  Tiger shark, 3m                       A .Kipper   \n",
       "...              ...              ...                             ...   \n",
       "25718            NaN              NaN                             NaN   \n",
       "25719            NaN              NaN                             NaN   \n",
       "25720            NaN              NaN                             NaN   \n",
       "25721            NaN              NaN                             NaN   \n",
       "25722            NaN              NaN                             NaN   \n",
       "\n",
       "                            pdf  \\\n",
       "0          2018.06.25-Wolfe.pdf   \n",
       "1        2018.06.18-McNeely.pdf   \n",
       "2         2018.06.09-Denges.pdf   \n",
       "3      2018.06.08-Arrawarra.pdf   \n",
       "4          2018.06.04-Ramos.pdf   \n",
       "...                         ...   \n",
       "25718                       NaN   \n",
       "25719                       NaN   \n",
       "25720                       NaN   \n",
       "25721                       NaN   \n",
       "25722                       NaN   \n",
       "\n",
       "                                            href formula  \\\n",
       "0      http://sharkattackfile.net/spreadsheets/pdf_di...   \n",
       "1      http://sharkattackfile.net/spreadsheets/pdf_di...   \n",
       "2      http://sharkattackfile.net/spreadsheets/pdf_di...   \n",
       "3      http://sharkattackfile.net/spreadsheets/pdf_di...   \n",
       "4      http://sharkattackfile.net/spreadsheets/pdf_di...   \n",
       "...                                                  ...   \n",
       "25718                                                NaN   \n",
       "25719                                                NaN   \n",
       "25720                                                NaN   \n",
       "25721                                                NaN   \n",
       "25722                                                NaN   \n",
       "\n",
       "                                                    href Case Number.1  \\\n",
       "0      http://sharkattackfile.net/spreadsheets/pdf_di...    2018.06.25   \n",
       "1      http://sharkattackfile.net/spreadsheets/pdf_di...    2018.06.18   \n",
       "2      http://sharkattackfile.net/spreadsheets/pdf_di...    2018.06.09   \n",
       "3      http://sharkattackfile.net/spreadsheets/pdf_di...    2018.06.08   \n",
       "4      http://sharkattackfile.net/spreadsheets/pdf_di...    2018.06.04   \n",
       "...                                                  ...           ...   \n",
       "25718                                                NaN           NaN   \n",
       "25719                                                NaN           NaN   \n",
       "25720                                                NaN           NaN   \n",
       "25721                                                NaN           NaN   \n",
       "25722                                                NaN           NaN   \n",
       "\n",
       "      Case Number.2  original order Unnamed: 22 Unnamed: 23  \n",
       "0        2018.06.25          6303.0         NaN         NaN  \n",
       "1        2018.06.18          6302.0         NaN         NaN  \n",
       "2        2018.06.09          6301.0         NaN         NaN  \n",
       "3        2018.06.08          6300.0         NaN         NaN  \n",
       "4        2018.06.04          6299.0         NaN         NaN  \n",
       "...             ...             ...         ...         ...  \n",
       "25718           NaN             NaN         NaN         NaN  \n",
       "25719           NaN             NaN         NaN         NaN  \n",
       "25720           NaN             NaN         NaN         NaN  \n",
       "25721           NaN             NaN         NaN         NaN  \n",
       "25722           NaN             NaN         NaN         NaN  \n",
       "\n",
       "[25723 rows x 24 columns]"
      ]
     },
     "execution_count": 5,
     "metadata": {},
     "output_type": "execute_result"
    }
   ],
   "source": [
    "pd.set_option('display.max_columns', None)\n",
    "shark_ori"
   ]
  },
  {
   "cell_type": "code",
   "execution_count": 6,
   "id": "fba65357",
   "metadata": {},
   "outputs": [],
   "source": [
    "pd.set_option('display.max_rows', None)"
   ]
  },
  {
   "cell_type": "code",
   "execution_count": 7,
   "id": "a54c099c",
   "metadata": {},
   "outputs": [
    {
     "data": {
      "text/plain": [
       "Case Number               66.170353\n",
       "Date                      75.500525\n",
       "Year                      75.508300\n",
       "Type                      75.516075\n",
       "Country                   75.694903\n",
       "Area                      77.269370\n",
       "Location                  77.599813\n",
       "Activity                  77.615364\n",
       "Name                      76.316915\n",
       "Sex                       77.697003\n",
       "Age                       86.506240\n",
       "Injury                    75.609377\n",
       "Fatal (Y/N)               77.595926\n",
       "Time                      88.539439\n",
       "Species                   86.533453\n",
       "Investigator or Source    75.566614\n",
       "pdf                       75.500525\n",
       "href formula              75.504412\n",
       "href                      75.500525\n",
       "Case Number.1             75.500525\n",
       "Case Number.2             75.500525\n",
       "original order            75.473312\n",
       "Unnamed: 22               99.996112\n",
       "Unnamed: 23               99.992225\n",
       "dtype: float64"
      ]
     },
     "execution_count": 7,
     "metadata": {},
     "output_type": "execute_result"
    }
   ],
   "source": [
    "#vemos el % de nulos\n",
    "nan_cols=shark_ori.isna().mean()*100\n",
    "nan_cols[nan_cols>0]"
   ]
  },
  {
   "cell_type": "code",
   "execution_count": 8,
   "id": "ab2554bc",
   "metadata": {},
   "outputs": [
    {
     "data": {
      "text/plain": [
       "Age            86.506240\n",
       "Time           88.539439\n",
       "Species        86.533453\n",
       "Unnamed: 22    99.996112\n",
       "Unnamed: 23    99.992225\n",
       "dtype: float64"
      ]
     },
     "execution_count": 8,
     "metadata": {},
     "output_type": "execute_result"
    }
   ],
   "source": [
    "nan_cols=shark_ori.isna().mean()*100\n",
    "nan_cols[nan_cols>80]"
   ]
  },
  {
   "cell_type": "code",
   "execution_count": 9,
   "id": "979cc6f3",
   "metadata": {},
   "outputs": [],
   "source": [
    "shark_1=shark_ori.copy()"
   ]
  },
  {
   "cell_type": "code",
   "execution_count": 10,
   "id": "b04add49",
   "metadata": {
    "scrolled": true
   },
   "outputs": [
    {
     "data": {
      "image/png": "[encoded data removed]",
      "text/plain": [
       "<Figure size 720x432 with 1 Axes>"
      ]
     },
     "metadata": {
      "needs_background": "light"
     },
     "output_type": "display_data"
    }
   ],
   "source": [
    "# grafico de nulos en el dataframe\n",
    "\n",
    "plt.figure(figsize=(10, 6))  \n",
    "\n",
    "sns.heatmap(shark_1.isna(),  \n",
    "           yticklabels=False,\n",
    "           cmap='viridis',\n",
    "           cbar=False)\n",
    "\n",
    "plt.show()"
   ]
  },
  {
   "cell_type": "code",
   "execution_count": 11,
   "id": "cb9b2972",
   "metadata": {},
   "outputs": [
    {
     "data": {
      "text/plain": [
       "Index(['Case Number', 'Date', 'Year', 'Type', 'Country', 'Area', 'Location',\n",
       "       'Activity', 'Name', 'Sex ', 'Age', 'Injury', 'Fatal (Y/N)', 'Time',\n",
       "       'Species ', 'Investigator or Source', 'pdf', 'href formula', 'href',\n",
       "       'Case Number.1', 'Case Number.2', 'original order', 'Unnamed: 22',\n",
       "       'Unnamed: 23'],\n",
       "      dtype='object')"
      ]
     },
     "execution_count": 11,
     "metadata": {},
     "output_type": "execute_result"
    }
   ],
   "source": [
    "shark_1.columns"
   ]
  },
  {
   "cell_type": "code",
   "execution_count": 12,
   "id": "bbc932ff",
   "metadata": {},
   "outputs": [],
   "source": [
    "#eliminamos aquellas filas donde tengan nulos en todas las columnas\n",
    "shark_1.dropna(subset=['Case Number', 'Date', 'Year', 'Type', 'Country', 'Area', 'Location',\n",
    "       'Activity', 'Name', 'Sex ', 'Age', 'Injury', 'Fatal (Y/N)', 'Time',\n",
    "       'Species ', 'Investigator or Source', 'pdf', 'href formula', 'href',\n",
    "       'Case Number.1', 'Case Number.2', 'original order', 'Unnamed: 22',\n",
    "       'Unnamed: 23'], inplace=True, how='all') "
   ]
  },
  {
   "cell_type": "code",
   "execution_count": 13,
   "id": "c23c1f8a",
   "metadata": {},
   "outputs": [
    {
     "data": {
      "text/plain": [
       "((8703, 24), (25723, 24))"
      ]
     },
     "execution_count": 13,
     "metadata": {},
     "output_type": "execute_result"
    }
   ],
   "source": [
    "shark_1.shape, shark_ori.shape"
   ]
  },
  {
   "cell_type": "code",
   "execution_count": 14,
   "id": "c8b50f01",
   "metadata": {},
   "outputs": [
    {
     "data": {
      "text/plain": [
       "True"
      ]
     },
     "execution_count": 14,
     "metadata": {},
     "output_type": "execute_result"
    }
   ],
   "source": [
    "shark_1.duplicated().any()"
   ]
  },
  {
   "cell_type": "code",
   "execution_count": 15,
   "id": "26a94942",
   "metadata": {},
   "outputs": [
    {
     "data": {
      "text/plain": [
       "(6311, 24)"
      ]
     },
     "execution_count": 15,
     "metadata": {},
     "output_type": "execute_result"
    }
   ],
   "source": [
    "#eliminimanos duplicados\n",
    "shark_1.drop_duplicates(inplace=True)\n",
    "shark_1.shape"
   ]
  },
  {
   "cell_type": "code",
   "execution_count": 16,
   "id": "c60db8ea",
   "metadata": {},
   "outputs": [
    {
     "data": {
      "text/plain": [
       "((6311, 24), (25723, 24))"
      ]
     },
     "execution_count": 16,
     "metadata": {},
     "output_type": "execute_result"
    }
   ],
   "source": [
    "shark_1.shape, shark_ori.shape"
   ]
  },
  {
   "cell_type": "code",
   "execution_count": 17,
   "id": "f2268ae5",
   "metadata": {},
   "outputs": [],
   "source": [
    "#eliminamos estas 2 columnas. No aportan información. casi el 100% son nulos\n",
    "shark_1.drop(columns=['Unnamed: 23', 'Unnamed: 22'], inplace=True)"
   ]
  },
  {
   "cell_type": "code",
   "execution_count": 18,
   "id": "95e1e2fa",
   "metadata": {},
   "outputs": [
    {
     "data": {
      "text/plain": [
       "((6311, 22), (25723, 24))"
      ]
     },
     "execution_count": 18,
     "metadata": {},
     "output_type": "execute_result"
    }
   ],
   "source": [
    "shark_1.shape, shark_ori.shape"
   ]
  },
  {
   "cell_type": "code",
   "execution_count": 19,
   "id": "26f10a43",
   "metadata": {},
   "outputs": [
    {
     "data": {
      "text/plain": [
       "Case Number                0.015845\n",
       "Date                       0.142608\n",
       "Year                       0.174299\n",
       "Type                       0.205990\n",
       "Country                    0.934876\n",
       "Area                       7.352242\n",
       "Location                   8.699097\n",
       "Activity                   8.762478\n",
       "Name                       3.470132\n",
       "Sex                        9.095231\n",
       "Age                       45.000792\n",
       "Injury                     0.586278\n",
       "Fatal (Y/N)                8.683251\n",
       "Time                      53.287910\n",
       "Species                   45.111710\n",
       "Investigator or Source     0.411979\n",
       "pdf                        0.142608\n",
       "href formula               0.158453\n",
       "href                       0.142608\n",
       "Case Number.1              0.142608\n",
       "Case Number.2              0.142608\n",
       "original order             0.031691\n",
       "dtype: float64"
      ]
     },
     "execution_count": 19,
     "metadata": {},
     "output_type": "execute_result"
    }
   ],
   "source": [
    "nan_cols_1=shark_1.isna().mean()*100\n",
    "nan_cols_1[nan_cols_1>0]"
   ]
  },
  {
   "cell_type": "code",
   "execution_count": 20,
   "id": "1ba2e423",
   "metadata": {},
   "outputs": [],
   "source": [
    "#cambiamos de nombre a las columnas"
   ]
  },
  {
   "cell_type": "code",
   "execution_count": 21,
   "id": "b4719586",
   "metadata": {},
   "outputs": [
    {
     "data": {
      "text/plain": [
       "Index(['Case Number', 'Date', 'Year', 'Type', 'Country', 'Area', 'Location',\n",
       "       'Activity', 'Name', 'Sex ', 'Age', 'Injury', 'Fatal (Y/N)', 'Time',\n",
       "       'Species ', 'Investigator or Source', 'pdf', 'href formula', 'href',\n",
       "       'Case Number.1', 'Case Number.2', 'original order'],\n",
       "      dtype='object')"
      ]
     },
     "execution_count": 21,
     "metadata": {},
     "output_type": "execute_result"
    }
   ],
   "source": [
    "shark_1.columns"
   ]
  },
  {
   "cell_type": "code",
   "execution_count": 22,
   "id": "507645a7",
   "metadata": {},
   "outputs": [],
   "source": [
    "shark_1=shark_1.rename(columns={k:v for k,v in zip(shark_1.columns, [c.upper().replace(' ', '') for c in shark_1.columns])})"
   ]
  },
  {
   "cell_type": "code",
   "execution_count": 23,
   "id": "bb1f2d97",
   "metadata": {},
   "outputs": [
    {
     "data": {
      "text/plain": [
       "Unprovoked      4595\n",
       "Provoked         574\n",
       "Invalid          547\n",
       "Sea Disaster     239\n",
       "Boating          203\n",
       "Boat             137\n",
       "Questionable       2\n",
       "Boatomg            1\n",
       "Name: TYPE, dtype: int64"
      ]
     },
     "execution_count": 23,
     "metadata": {},
     "output_type": "execute_result"
    }
   ],
   "source": [
    "shark_1['TYPE'].value_counts()"
   ]
  },
  {
   "cell_type": "code",
   "execution_count": 24,
   "id": "ec27bb70",
   "metadata": {},
   "outputs": [
    {
     "data": {
      "text/plain": [
       "Unprovoked      4595\n",
       "Provoked         574\n",
       "Invalid          547\n",
       "Boat             341\n",
       "Sea Disaster     239\n",
       "Unknown           15\n",
       "Name: TYPE, dtype: int64"
      ]
     },
     "execution_count": 24,
     "metadata": {},
     "output_type": "execute_result"
    }
   ],
   "source": [
    "# Renombro los valores en la columna Type para una mejor interpretacion.\n",
    "shark_1['TYPE'].replace({'Boating':'Boat','Boatomg':'Boat', 'Questionable':'Unknown'}, inplace = True)\n",
    "# Reemplazp los null con Unknown\n",
    "shark_1['TYPE'].fillna('Unknown', inplace = True)\n",
    "shark_1['TYPE'].value_counts()"
   ]
  },
  {
   "cell_type": "code",
   "execution_count": 25,
   "id": "97b3c53b",
   "metadata": {},
   "outputs": [
    {
     "data": {
      "text/plain": [
       "array(['Boat', 'Unprovoked', 'Invalid', 'Provoked', 'Unknown',\n",
       "       'Sea Disaster'], dtype=object)"
      ]
     },
     "execution_count": 25,
     "metadata": {},
     "output_type": "execute_result"
    }
   ],
   "source": [
    "shark_1.TYPE.unique()"
   ]
  },
  {
   "cell_type": "code",
   "execution_count": 26,
   "id": "29318780",
   "metadata": {},
   "outputs": [
    {
     "data": {
      "text/plain": [
       "CASENUMBER                 1\n",
       "DATE                       9\n",
       "YEAR                      11\n",
       "COUNTRY                   59\n",
       "AREA                     464\n",
       "LOCATION                 549\n",
       "ACTIVITY                 553\n",
       "NAME                     219\n",
       "SEX                      574\n",
       "AGE                     2840\n",
       "INJURY                    37\n",
       "FATAL(Y/N)               548\n",
       "TIME                    3363\n",
       "SPECIES                 2847\n",
       "INVESTIGATORORSOURCE      26\n",
       "PDF                        9\n",
       "HREFFORMULA               10\n",
       "HREF                       9\n",
       "CASENUMBER.1               9\n",
       "CASENUMBER.2               9\n",
       "ORIGINALORDER              2\n",
       "dtype: int64"
      ]
     },
     "execution_count": 26,
     "metadata": {},
     "output_type": "execute_result"
    }
   ],
   "source": [
    "nan_cols2=shark_1.isna().sum()\n",
    "nan_cols2[nan_cols2>0]"
   ]
  },
  {
   "cell_type": "code",
   "execution_count": 27,
   "id": "ffc3d2ac",
   "metadata": {},
   "outputs": [
    {
     "data": {
      "text/plain": [
       "Int64Index([   62,   525,  2956,  3378,  3387,  3388,  3395,  3399,  3425,\n",
       "             3605,  3661,  4018,  4231,  4266,  4498,  4639,  4700,  4712,\n",
       "             4726,  4729,  4911,  5020,  5060,  5425,  5586,  5587,  5612,\n",
       "             5636,  5742,  5770,  5808,  5810,  5839,  5885,  5920,  5996,\n",
       "             6001,  6092,  6119,  6131,  6133,  6137,  6155,  6165,  6171,\n",
       "             6175,  6177,  6199,  6206,  6259,  6302,  6303,  6304,  6305,\n",
       "             6306,  6307,  6308,  6309, 25722],\n",
       "           dtype='int64')"
      ]
     },
     "execution_count": 27,
     "metadata": {},
     "output_type": "execute_result"
    }
   ],
   "source": [
    "# filas con valor nulo\n",
    "bad_index=shark_1.COUNTRY[shark_1.COUNTRY.isna()].index\n",
    "\n",
    "bad_index"
   ]
  },
  {
   "cell_type": "code",
   "execution_count": 28,
   "id": "8b4b1395",
   "metadata": {},
   "outputs": [],
   "source": [
    "#los datos de area, country y location que sean null ponemos Unknown\n",
    "shark_1['AREA'].fillna('Unknown', inplace = True)\n",
    "shark_1['COUNTRY'].fillna('Unknown', inplace = True)\n",
    "shark_1['LOCATION'].fillna('Unknown', inplace = True)"
   ]
  },
  {
   "cell_type": "code",
   "execution_count": 29,
   "id": "a6fd9839",
   "metadata": {},
   "outputs": [
    {
     "data": {
      "text/plain": [
       "CASENUMBER                 1\n",
       "DATE                       9\n",
       "YEAR                      11\n",
       "ACTIVITY                 553\n",
       "NAME                     219\n",
       "SEX                      574\n",
       "AGE                     2840\n",
       "INJURY                    37\n",
       "FATAL(Y/N)               548\n",
       "TIME                    3363\n",
       "SPECIES                 2847\n",
       "INVESTIGATORORSOURCE      26\n",
       "PDF                        9\n",
       "HREFFORMULA               10\n",
       "HREF                       9\n",
       "CASENUMBER.1               9\n",
       "CASENUMBER.2               9\n",
       "ORIGINALORDER              2\n",
       "dtype: int64"
      ]
     },
     "execution_count": 29,
     "metadata": {},
     "output_type": "execute_result"
    }
   ],
   "source": [
    "nan_cols2=shark_1.isna().sum()\n",
    "nan_cols2[nan_cols2>0]"
   ]
  },
  {
   "cell_type": "code",
   "execution_count": 30,
   "id": "20016b79",
   "metadata": {},
   "outputs": [
    {
     "data": {
      "text/plain": [
       "array(['USA', 'AUSTRALIA', 'MEXICO', 'BRAZIL', 'ENGLAND', 'SOUTH AFRICA',\n",
       "       'THAILAND', 'COSTA RICA', 'MALDIVES', 'BAHAMAS', 'NEW CALEDONIA',\n",
       "       'ECUADOR', 'MALAYSIA', 'LIBYA', 'Unknown', 'CUBA', 'MAURITIUS',\n",
       "       'NEW ZEALAND', 'SPAIN', 'SAMOA', 'SOLOMON ISLANDS', 'JAPAN',\n",
       "       'EGYPT', 'ST HELENA, British overseas territory', 'COMOROS',\n",
       "       'REUNION', 'FRENCH POLYNESIA', 'UNITED KINGDOM',\n",
       "       'UNITED ARAB EMIRATES', 'PHILIPPINES', 'INDONESIA', 'CHINA',\n",
       "       'COLUMBIA', 'CAPE VERDE', 'Fiji', 'DOMINICAN REPUBLIC',\n",
       "       'CAYMAN ISLANDS', 'ARUBA', 'MOZAMBIQUE', 'FIJI', 'PUERTO RICO',\n",
       "       'ITALY', 'ATLANTIC OCEAN', 'GREECE', 'ST. MARTIN', 'FRANCE',\n",
       "       'PAPUA NEW GUINEA', 'TRINIDAD & TOBAGO', 'KIRIBATI', 'ISRAEL',\n",
       "       'DIEGO GARCIA', 'TAIWAN', 'JAMAICA', 'PALESTINIAN TERRITORIES',\n",
       "       'GUAM', 'SEYCHELLES', 'BELIZE', 'NIGERIA', 'TONGA', 'SCOTLAND',\n",
       "       'CANADA', 'CROATIA', 'SAUDI ARABIA', 'CHILE', 'ANTIGUA', 'KENYA',\n",
       "       'RUSSIA', 'TURKS & CAICOS', 'UNITED ARAB EMIRATES (UAE)', 'AZORES',\n",
       "       'SOUTH KOREA', 'MALTA', 'VIETNAM', 'MADAGASCAR', 'PANAMA',\n",
       "       'SOMALIA', 'NEVIS', 'BRITISH VIRGIN ISLANDS', 'NORWAY', 'SENEGAL',\n",
       "       'YEMEN', 'GULF OF ADEN', 'Sierra Leone', 'ST. MAARTIN',\n",
       "       'GRAND CAYMAN', 'Seychelles', 'LIBERIA', 'VANUATU', 'MEXICO ',\n",
       "       'HONDURAS', 'VENEZUELA', 'SRI LANKA', ' TONGA', 'URUGUAY', 'INDIA',\n",
       "       'MICRONESIA', 'CARIBBEAN SEA', 'OKINAWA', 'TANZANIA',\n",
       "       'MARSHALL ISLANDS', 'EGYPT / ISRAEL', 'NORTHERN ARABIAN SEA',\n",
       "       'HONG KONG', 'EL SALVADOR', 'ANGOLA', 'BERMUDA', 'MONTENEGRO',\n",
       "       'IRAN', 'TUNISIA', 'NAMIBIA', 'NORTH ATLANTIC OCEAN', 'PORTUGAL',\n",
       "       'SOUTH CHINA SEA', 'BANGLADESH', 'PALAU', 'WESTERN SAMOA',\n",
       "       'PACIFIC OCEAN ', 'BRITISH ISLES', 'GRENADA', 'IRAQ', 'TURKEY',\n",
       "       'SINGAPORE', 'NEW BRITAIN', 'SUDAN', 'JOHNSTON ISLAND',\n",
       "       'SOUTH PACIFIC OCEAN', 'NEW GUINEA', 'RED SEA',\n",
       "       'NORTH PACIFIC OCEAN', 'FEDERATED STATES OF MICRONESIA',\n",
       "       'MID ATLANTIC OCEAN', 'ADMIRALTY ISLANDS', 'BRITISH WEST INDIES',\n",
       "       'SOUTH ATLANTIC OCEAN', 'PERSIAN GULF', 'RED SEA / INDIAN OCEAN',\n",
       "       'PACIFIC OCEAN', 'NORTH SEA', 'NICARAGUA ', 'MALDIVE ISLANDS',\n",
       "       'AMERICAN SAMOA', 'ANDAMAN / NICOBAR ISLANDAS', 'GABON', 'MAYOTTE',\n",
       "       'NORTH ATLANTIC OCEAN ', 'THE BALKANS', 'SUDAN?', 'ARGENTINA',\n",
       "       'MARTINIQUE', 'INDIAN OCEAN', 'GUATEMALA', 'NETHERLANDS ANTILLES',\n",
       "       'NORTHERN MARIANA ISLANDS', 'IRAN / IRAQ', 'JAVA', 'SIERRA LEONE',\n",
       "       ' PHILIPPINES', 'NICARAGUA', 'CENTRAL PACIFIC',\n",
       "       'SOLOMON ISLANDS / VANUATU', 'SOUTHWEST PACIFIC OCEAN',\n",
       "       'BAY OF BENGAL', 'MID-PACIFC OCEAN', 'SLOVENIA', 'CURACAO',\n",
       "       'ICELAND', 'ITALY / CROATIA', 'BARBADOS', 'MONACO', 'GUYANA',\n",
       "       'HAITI', 'SAN DOMINGO', 'IRELAND', 'KUWAIT', 'YEMEN ',\n",
       "       'REUNION ISLAND', 'FALKLAND ISLANDS', 'CRETE', 'CYPRUS', 'EGYPT ',\n",
       "       'WEST INDIES', 'BURMA', 'LEBANON', 'PARAGUAY',\n",
       "       'BRITISH NEW GUINEA', 'CEYLON', 'OCEAN', 'GEORGIA', 'SYRIA',\n",
       "       'TUVALU', 'INDIAN OCEAN?', 'GUINEA', 'ANDAMAN ISLANDS',\n",
       "       'EQUATORIAL GUINEA / CAMEROON', 'COOK ISLANDS', 'TOBAGO', 'PERU',\n",
       "       'AFRICA', 'ALGERIA', 'Coast of AFRICA', 'TASMAN SEA', 'GHANA',\n",
       "       'GREENLAND', 'MEDITERRANEAN SEA', 'SWEDEN', 'ROATAN',\n",
       "       'Between PORTUGAL & INDIA', 'DJIBOUTI', 'BAHREIN', 'KOREA',\n",
       "       'RED SEA?', 'ASIA?', 'CEYLON (SRI LANKA)'], dtype=object)"
      ]
     },
     "execution_count": 30,
     "metadata": {},
     "output_type": "execute_result"
    }
   ],
   "source": [
    "shark_1.COUNTRY.unique()"
   ]
  },
  {
   "cell_type": "code",
   "execution_count": 31,
   "id": "6480e09e",
   "metadata": {},
   "outputs": [],
   "source": [
    "import re"
   ]
  },
  {
   "cell_type": "code",
   "execution_count": 32,
   "id": "ef344817",
   "metadata": {},
   "outputs": [],
   "source": [
    "#limpiamos columna COUNTRY eliminando en este caso los '?'\n",
    "def limpiar_country(COUNTRY):\n",
    "    COUNTRY=re.findall('\\w+', COUNTRY)\n",
    "    COUNTRY=' '.join(COUNTRY)\n",
    "    return COUNTRY"
   ]
  },
  {
   "cell_type": "code",
   "execution_count": 33,
   "id": "bf578a8f",
   "metadata": {},
   "outputs": [],
   "source": [
    "shark_1.COUNTRY=shark_1.COUNTRY.apply(limpiar_country)"
   ]
  },
  {
   "cell_type": "code",
   "execution_count": 34,
   "id": "0bf97f0e",
   "metadata": {},
   "outputs": [],
   "source": [
    "#shark_1['COUNTRY'].value_counts"
   ]
  },
  {
   "cell_type": "code",
   "execution_count": 35,
   "id": "5e3e0f74",
   "metadata": {},
   "outputs": [],
   "source": [
    "#shark_1['CASENUMBER'].value_counts()"
   ]
  },
  {
   "cell_type": "code",
   "execution_count": 36,
   "id": "66c31565",
   "metadata": {},
   "outputs": [],
   "source": [
    "#hacemos segunda copia del data\n",
    "shark_2=shark_1.copy()"
   ]
  },
  {
   "cell_type": "code",
   "execution_count": 37,
   "id": "f8ee89f0",
   "metadata": {},
   "outputs": [
    {
     "data": {
      "text/html": [
       "<div>\n",
       "<style scoped>\n",
       "    .dataframe tbody tr th:only-of-type {\n",
       "        vertical-align: middle;\n",
       "    }\n",
       "\n",
       "    .dataframe tbody tr th {\n",
       "        vertical-align: top;\n",
       "    }\n",
       "\n",
       "    .dataframe thead th {\n",
       "        text-align: right;\n",
       "    }\n",
       "</style>\n",
       "<table border=\"1\" class=\"dataframe\">\n",
       "  <thead>\n",
       "    <tr style=\"text-align: right;\">\n",
       "      <th></th>\n",
       "      <th>CASENUMBER</th>\n",
       "      <th>DATE</th>\n",
       "      <th>YEAR</th>\n",
       "      <th>TYPE</th>\n",
       "      <th>COUNTRY</th>\n",
       "      <th>AREA</th>\n",
       "      <th>LOCATION</th>\n",
       "      <th>ACTIVITY</th>\n",
       "      <th>NAME</th>\n",
       "      <th>SEX</th>\n",
       "      <th>AGE</th>\n",
       "      <th>INJURY</th>\n",
       "      <th>FATAL(Y/N)</th>\n",
       "      <th>TIME</th>\n",
       "      <th>SPECIES</th>\n",
       "      <th>INVESTIGATORORSOURCE</th>\n",
       "      <th>PDF</th>\n",
       "      <th>HREFFORMULA</th>\n",
       "      <th>HREF</th>\n",
       "      <th>CASENUMBER.1</th>\n",
       "      <th>CASENUMBER.2</th>\n",
       "      <th>ORIGINALORDER</th>\n",
       "    </tr>\n",
       "  </thead>\n",
       "  <tbody>\n",
       "    <tr>\n",
       "      <th>0</th>\n",
       "      <td>2018.06.25</td>\n",
       "      <td>25-Jun-2018</td>\n",
       "      <td>2018.0</td>\n",
       "      <td>Boat</td>\n",
       "      <td>USA</td>\n",
       "      <td>California</td>\n",
       "      <td>Oceanside, San Diego County</td>\n",
       "      <td>Paddling</td>\n",
       "      <td>Julie Wolfe</td>\n",
       "      <td>F</td>\n",
       "      <td>57</td>\n",
       "      <td>No injury to occupant, outrigger canoe and pad...</td>\n",
       "      <td>N</td>\n",
       "      <td>18h00</td>\n",
       "      <td>White shark</td>\n",
       "      <td>R. Collier, GSAF</td>\n",
       "      <td>2018.06.25-Wolfe.pdf</td>\n",
       "      <td>http://sharkattackfile.net/spreadsheets/pdf_di...</td>\n",
       "      <td>http://sharkattackfile.net/spreadsheets/pdf_di...</td>\n",
       "      <td>2018.06.25</td>\n",
       "      <td>2018.06.25</td>\n",
       "      <td>6303.0</td>\n",
       "    </tr>\n",
       "    <tr>\n",
       "      <th>1</th>\n",
       "      <td>2018.06.18</td>\n",
       "      <td>18-Jun-2018</td>\n",
       "      <td>2018.0</td>\n",
       "      <td>Unprovoked</td>\n",
       "      <td>USA</td>\n",
       "      <td>Georgia</td>\n",
       "      <td>St. Simon Island, Glynn County</td>\n",
       "      <td>Standing</td>\n",
       "      <td>Adyson McNeely</td>\n",
       "      <td>F</td>\n",
       "      <td>11</td>\n",
       "      <td>Minor injury to left thigh</td>\n",
       "      <td>N</td>\n",
       "      <td>14h00  -15h00</td>\n",
       "      <td>NaN</td>\n",
       "      <td>K.McMurray, TrackingSharks.com</td>\n",
       "      <td>2018.06.18-McNeely.pdf</td>\n",
       "      <td>http://sharkattackfile.net/spreadsheets/pdf_di...</td>\n",
       "      <td>http://sharkattackfile.net/spreadsheets/pdf_di...</td>\n",
       "      <td>2018.06.18</td>\n",
       "      <td>2018.06.18</td>\n",
       "      <td>6302.0</td>\n",
       "    </tr>\n",
       "    <tr>\n",
       "      <th>2</th>\n",
       "      <td>2018.06.09</td>\n",
       "      <td>09-Jun-2018</td>\n",
       "      <td>2018.0</td>\n",
       "      <td>Invalid</td>\n",
       "      <td>USA</td>\n",
       "      <td>Hawaii</td>\n",
       "      <td>Habush, Oahu</td>\n",
       "      <td>Surfing</td>\n",
       "      <td>John Denges</td>\n",
       "      <td>M</td>\n",
       "      <td>48</td>\n",
       "      <td>Injury to left lower leg from surfboard skeg</td>\n",
       "      <td>N</td>\n",
       "      <td>07h45</td>\n",
       "      <td>NaN</td>\n",
       "      <td>K.McMurray, TrackingSharks.com</td>\n",
       "      <td>2018.06.09-Denges.pdf</td>\n",
       "      <td>http://sharkattackfile.net/spreadsheets/pdf_di...</td>\n",
       "      <td>http://sharkattackfile.net/spreadsheets/pdf_di...</td>\n",
       "      <td>2018.06.09</td>\n",
       "      <td>2018.06.09</td>\n",
       "      <td>6301.0</td>\n",
       "    </tr>\n",
       "    <tr>\n",
       "      <th>3</th>\n",
       "      <td>2018.06.08</td>\n",
       "      <td>08-Jun-2018</td>\n",
       "      <td>2018.0</td>\n",
       "      <td>Unprovoked</td>\n",
       "      <td>AUSTRALIA</td>\n",
       "      <td>New South Wales</td>\n",
       "      <td>Arrawarra Headland</td>\n",
       "      <td>Surfing</td>\n",
       "      <td>male</td>\n",
       "      <td>M</td>\n",
       "      <td>NaN</td>\n",
       "      <td>Minor injury to lower leg</td>\n",
       "      <td>N</td>\n",
       "      <td>NaN</td>\n",
       "      <td>2 m shark</td>\n",
       "      <td>B. Myatt, GSAF</td>\n",
       "      <td>2018.06.08-Arrawarra.pdf</td>\n",
       "      <td>http://sharkattackfile.net/spreadsheets/pdf_di...</td>\n",
       "      <td>http://sharkattackfile.net/spreadsheets/pdf_di...</td>\n",
       "      <td>2018.06.08</td>\n",
       "      <td>2018.06.08</td>\n",
       "      <td>6300.0</td>\n",
       "    </tr>\n",
       "    <tr>\n",
       "      <th>4</th>\n",
       "      <td>2018.06.04</td>\n",
       "      <td>04-Jun-2018</td>\n",
       "      <td>2018.0</td>\n",
       "      <td>Provoked</td>\n",
       "      <td>MEXICO</td>\n",
       "      <td>Colima</td>\n",
       "      <td>La Ticla</td>\n",
       "      <td>Free diving</td>\n",
       "      <td>Gustavo Ramos</td>\n",
       "      <td>M</td>\n",
       "      <td>NaN</td>\n",
       "      <td>Lacerations to leg &amp; hand shark PROVOKED INCIDENT</td>\n",
       "      <td>N</td>\n",
       "      <td>NaN</td>\n",
       "      <td>Tiger shark, 3m</td>\n",
       "      <td>A .Kipper</td>\n",
       "      <td>2018.06.04-Ramos.pdf</td>\n",
       "      <td>http://sharkattackfile.net/spreadsheets/pdf_di...</td>\n",
       "      <td>http://sharkattackfile.net/spreadsheets/pdf_di...</td>\n",
       "      <td>2018.06.04</td>\n",
       "      <td>2018.06.04</td>\n",
       "      <td>6299.0</td>\n",
       "    </tr>\n",
       "  </tbody>\n",
       "</table>\n",
       "</div>"
      ],
      "text/plain": [
       "   CASENUMBER         DATE    YEAR        TYPE    COUNTRY             AREA  \\\n",
       "0  2018.06.25  25-Jun-2018  2018.0        Boat        USA       California   \n",
       "1  2018.06.18  18-Jun-2018  2018.0  Unprovoked        USA          Georgia   \n",
       "2  2018.06.09  09-Jun-2018  2018.0     Invalid        USA           Hawaii   \n",
       "3  2018.06.08  08-Jun-2018  2018.0  Unprovoked  AUSTRALIA  New South Wales   \n",
       "4  2018.06.04  04-Jun-2018  2018.0    Provoked     MEXICO           Colima   \n",
       "\n",
       "                         LOCATION     ACTIVITY             NAME SEX  AGE  \\\n",
       "0     Oceanside, San Diego County     Paddling      Julie Wolfe   F   57   \n",
       "1  St. Simon Island, Glynn County     Standing  Adyson McNeely    F   11   \n",
       "2                    Habush, Oahu      Surfing      John Denges   M   48   \n",
       "3              Arrawarra Headland      Surfing             male   M  NaN   \n",
       "4                        La Ticla  Free diving   Gustavo Ramos    M  NaN   \n",
       "\n",
       "                                              INJURY FATAL(Y/N)  \\\n",
       "0  No injury to occupant, outrigger canoe and pad...          N   \n",
       "1                         Minor injury to left thigh          N   \n",
       "2       Injury to left lower leg from surfboard skeg          N   \n",
       "3                          Minor injury to lower leg          N   \n",
       "4  Lacerations to leg & hand shark PROVOKED INCIDENT          N   \n",
       "\n",
       "            TIME          SPECIES            INVESTIGATORORSOURCE  \\\n",
       "0          18h00      White shark                R. Collier, GSAF   \n",
       "1  14h00  -15h00              NaN  K.McMurray, TrackingSharks.com   \n",
       "2          07h45              NaN  K.McMurray, TrackingSharks.com   \n",
       "3            NaN        2 m shark                  B. Myatt, GSAF   \n",
       "4            NaN  Tiger shark, 3m                       A .Kipper   \n",
       "\n",
       "                        PDF  \\\n",
       "0      2018.06.25-Wolfe.pdf   \n",
       "1    2018.06.18-McNeely.pdf   \n",
       "2     2018.06.09-Denges.pdf   \n",
       "3  2018.06.08-Arrawarra.pdf   \n",
       "4      2018.06.04-Ramos.pdf   \n",
       "\n",
       "                                         HREFFORMULA  \\\n",
       "0  http://sharkattackfile.net/spreadsheets/pdf_di...   \n",
       "1  http://sharkattackfile.net/spreadsheets/pdf_di...   \n",
       "2  http://sharkattackfile.net/spreadsheets/pdf_di...   \n",
       "3  http://sharkattackfile.net/spreadsheets/pdf_di...   \n",
       "4  http://sharkattackfile.net/spreadsheets/pdf_di...   \n",
       "\n",
       "                                                HREF CASENUMBER.1  \\\n",
       "0  http://sharkattackfile.net/spreadsheets/pdf_di...   2018.06.25   \n",
       "1  http://sharkattackfile.net/spreadsheets/pdf_di...   2018.06.18   \n",
       "2  http://sharkattackfile.net/spreadsheets/pdf_di...   2018.06.09   \n",
       "3  http://sharkattackfile.net/spreadsheets/pdf_di...   2018.06.08   \n",
       "4  http://sharkattackfile.net/spreadsheets/pdf_di...   2018.06.04   \n",
       "\n",
       "  CASENUMBER.2  ORIGINALORDER  \n",
       "0   2018.06.25         6303.0  \n",
       "1   2018.06.18         6302.0  \n",
       "2   2018.06.09         6301.0  \n",
       "3   2018.06.08         6300.0  \n",
       "4   2018.06.04         6299.0  "
      ]
     },
     "execution_count": 37,
     "metadata": {},
     "output_type": "execute_result"
    }
   ],
   "source": [
    "shark_2.head()"
   ]
  },
  {
   "cell_type": "code",
   "execution_count": 38,
   "id": "961e18f4",
   "metadata": {},
   "outputs": [
    {
     "data": {
      "text/plain": [
       "Int64Index([5488], dtype='int64')"
      ]
     },
     "execution_count": 38,
     "metadata": {},
     "output_type": "execute_result"
    }
   ],
   "source": [
    "bad_index=shark_2.CASENUMBER[shark_2.CASENUMBER.isna()].index\n",
    "\n",
    "bad_index[:10]"
   ]
  },
  {
   "cell_type": "code",
   "execution_count": 39,
   "id": "3588b168",
   "metadata": {},
   "outputs": [],
   "source": [
    "shark_2['CASENUMBER'].fillna('Unknown', inplace = True)"
   ]
  },
  {
   "cell_type": "code",
   "execution_count": 40,
   "id": "88d93fbf",
   "metadata": {},
   "outputs": [
    {
     "data": {
      "text/plain": [
       "Int64Index([], dtype='int64')"
      ]
     },
     "execution_count": 40,
     "metadata": {},
     "output_type": "execute_result"
    }
   ],
   "source": [
    "bad_index=shark_2.CASENUMBER[shark_2.CASENUMBER.isna()].index\n",
    "\n",
    "bad_index[:10]"
   ]
  },
  {
   "cell_type": "code",
   "execution_count": 41,
   "id": "4efef02e",
   "metadata": {},
   "outputs": [],
   "source": [
    "#Nos fijamos que las 3 primeras columnas nos da la misma información.\n",
    "#Vamos a convertir la columna “DATE” en el ID de los casos\n",
    "new_index=[]\n",
    "for i in range(len(shark_2['DATE'])):\n",
    "    new_index.append(i)\n",
    "\n"
   ]
  },
  {
   "cell_type": "code",
   "execution_count": 42,
   "id": "1c60916c",
   "metadata": {},
   "outputs": [],
   "source": [
    "shark_2['DATE'] = new_index"
   ]
  },
  {
   "cell_type": "code",
   "execution_count": 43,
   "id": "5d561eca",
   "metadata": {},
   "outputs": [],
   "source": [
    "#vamos a limpiar la columna de CASENUMBER, para que solo se queden las fechas en el formato YYYY.MM.DD\n",
    "import re\n",
    "def limpiar_date(CASENUMBER): \n",
    "    CASENUMBER = re.findall('\\d+.\\d+.\\d+', CASENUMBER)\n",
    "    CASENUMBER = ''.join(CASENUMBER)\n",
    "    return CASENUMBER\n"
   ]
  },
  {
   "cell_type": "code",
   "execution_count": 44,
   "id": "82ea087f",
   "metadata": {},
   "outputs": [],
   "source": []
  },
  {
   "cell_type": "code",
   "execution_count": 45,
   "id": "25e153b9",
   "metadata": {},
   "outputs": [
    {
     "name": "stdout",
     "output_type": "stream",
     "text": [
      "<class 'pandas.core.frame.DataFrame'>\n",
      "Int64Index: 6311 entries, 0 to 25722\n",
      "Data columns (total 22 columns):\n",
      " #   Column                Non-Null Count  Dtype  \n",
      "---  ------                --------------  -----  \n",
      " 0   CASENUMBER            6311 non-null   object \n",
      " 1   DATE                  6311 non-null   int64  \n",
      " 2   YEAR                  6300 non-null   float64\n",
      " 3   TYPE                  6311 non-null   object \n",
      " 4   COUNTRY               6311 non-null   object \n",
      " 5   AREA                  6311 non-null   object \n",
      " 6   LOCATION              6311 non-null   object \n",
      " 7   ACTIVITY              5758 non-null   object \n",
      " 8   NAME                  6092 non-null   object \n",
      " 9   SEX                   5737 non-null   object \n",
      " 10  AGE                   3471 non-null   object \n",
      " 11  INJURY                6274 non-null   object \n",
      " 12  FATAL(Y/N)            5763 non-null   object \n",
      " 13  TIME                  2948 non-null   object \n",
      " 14  SPECIES               3464 non-null   object \n",
      " 15  INVESTIGATORORSOURCE  6285 non-null   object \n",
      " 16  PDF                   6302 non-null   object \n",
      " 17  HREFFORMULA           6301 non-null   object \n",
      " 18  HREF                  6302 non-null   object \n",
      " 19  CASENUMBER.1          6302 non-null   object \n",
      " 20  CASENUMBER.2          6302 non-null   object \n",
      " 21  ORIGINALORDER         6309 non-null   float64\n",
      "dtypes: float64(2), int64(1), object(19)\n",
      "memory usage: 1.1+ MB\n"
     ]
    }
   ],
   "source": [
    "shark_2.info()"
   ]
  },
  {
   "cell_type": "markdown",
   "id": "9c676901",
   "metadata": {},
   "source": [
    "#vamos a sustituir los datos de las columnas de DATE,YEAR,CASENUMBER.1 Y CASENUMBER.2 con los datos de la columna CASENUMBER"
   ]
  },
  {
   "cell_type": "code",
   "execution_count": 46,
   "id": "bada2252",
   "metadata": {},
   "outputs": [],
   "source": [
    "shark_2.DATE=shark_2.CASENUMBER  \n",
    "shark_2.YEAR=shark_2.CASENUMBER\n",
    "shark_2.CASENUMBER2=shark_2.CASENUMBER\n",
    "shark_2.CASENUMBER2=shark_2.CASENUMBER"
   ]
  },
  {
   "cell_type": "code",
   "execution_count": 47,
   "id": "324131b4",
   "metadata": {},
   "outputs": [
    {
     "name": "stdout",
     "output_type": "stream",
     "text": [
      "<class 'pandas.core.frame.DataFrame'>\n",
      "Int64Index: 6311 entries, 0 to 25722\n",
      "Data columns (total 22 columns):\n",
      " #   Column                Non-Null Count  Dtype  \n",
      "---  ------                --------------  -----  \n",
      " 0   CASENUMBER            6311 non-null   object \n",
      " 1   DATE                  6311 non-null   object \n",
      " 2   YEAR                  6311 non-null   object \n",
      " 3   TYPE                  6311 non-null   object \n",
      " 4   COUNTRY               6311 non-null   object \n",
      " 5   AREA                  6311 non-null   object \n",
      " 6   LOCATION              6311 non-null   object \n",
      " 7   ACTIVITY              5758 non-null   object \n",
      " 8   NAME                  6092 non-null   object \n",
      " 9   SEX                   5737 non-null   object \n",
      " 10  AGE                   3471 non-null   object \n",
      " 11  INJURY                6274 non-null   object \n",
      " 12  FATAL(Y/N)            5763 non-null   object \n",
      " 13  TIME                  2948 non-null   object \n",
      " 14  SPECIES               3464 non-null   object \n",
      " 15  INVESTIGATORORSOURCE  6285 non-null   object \n",
      " 16  PDF                   6302 non-null   object \n",
      " 17  HREFFORMULA           6301 non-null   object \n",
      " 18  HREF                  6302 non-null   object \n",
      " 19  CASENUMBER.1          6302 non-null   object \n",
      " 20  CASENUMBER.2          6302 non-null   object \n",
      " 21  ORIGINALORDER         6309 non-null   float64\n",
      "dtypes: float64(1), object(21)\n",
      "memory usage: 1.1+ MB\n"
     ]
    }
   ],
   "source": [
    "shark_2.info()"
   ]
  },
  {
   "cell_type": "code",
   "execution_count": 48,
   "id": "f7ff94ed",
   "metadata": {},
   "outputs": [],
   "source": [
    "shark_2['FATAL(Y/N)'].fillna('Unknown', inplace = True)"
   ]
  },
  {
   "cell_type": "code",
   "execution_count": 49,
   "id": "9a0f4bb8",
   "metadata": {},
   "outputs": [
    {
     "data": {
      "text/plain": [
       "array(['N', 'Y', 'Unknown', 'M', 'UNKNOWN', '2017', ' N', 'N ', 'y'],\n",
       "      dtype=object)"
      ]
     },
     "execution_count": 49,
     "metadata": {},
     "output_type": "execute_result"
    }
   ],
   "source": [
    "shark_2['FATAL(Y/N)'].unique()"
   ]
  },
  {
   "cell_type": "code",
   "execution_count": 50,
   "id": "a518f1fc",
   "metadata": {},
   "outputs": [
    {
     "data": {
      "text/plain": [
       "6311"
      ]
     },
     "execution_count": 50,
     "metadata": {},
     "output_type": "execute_result"
    }
   ],
   "source": [
    "#De la columna FATAL(Y/N) vamos a renombrar aquellos valores que sean diferentes a Y o N\n",
    "new_fatal=[]\n",
    "for e in shark_2['FATAL(Y/N)']:\n",
    "    \n",
    "    if 'M' in e:\n",
    "        e =e.replace('M', 'N/A')\n",
    "        new_fatal.append(e)\n",
    "    elif 'Unknown' in e:\n",
    "        e =e.replace('Unknown' ,'N/A')\n",
    "        new_fatal.append(e)\n",
    "    elif 'UNKNOWN' in e:\n",
    "        e =e.replace('UNKNOWN' ,'N/A')\n",
    "        new_fatal.append(e)\n",
    "    elif '2017' in e:\n",
    "        e =e.replace('2017' ,'N/A')\n",
    "        new_fatal.append(e)\n",
    "    elif ' N' in e:\n",
    "        e =e.replace(' N' ,'N')\n",
    "        new_fatal.append(e)\n",
    "    elif 'N ' in e:\n",
    "        e =e.replace('N ' ,'N')\n",
    "        new_fatal.append(e)\n",
    "    elif 'y' in e:\n",
    "        e =e.replace('y', 'Y')\n",
    "        new_fatal.append(e)\n",
    "    else:\n",
    "        new_fatal.append(e)\n",
    "len(new_fatal)\n",
    "\n"
   ]
  },
  {
   "cell_type": "code",
   "execution_count": 51,
   "id": "b1dc1c53",
   "metadata": {},
   "outputs": [],
   "source": [
    "shark_2['FATAL(Y/N)'] = new_fatal"
   ]
  },
  {
   "cell_type": "code",
   "execution_count": 52,
   "id": "4ed95497",
   "metadata": {},
   "outputs": [
    {
     "data": {
      "text/plain": [
       "array(['N', 'Y', 'N/A'], dtype=object)"
      ]
     },
     "execution_count": 52,
     "metadata": {},
     "output_type": "execute_result"
    }
   ],
   "source": [
    "shark_2['FATAL(Y/N)'].unique()"
   ]
  },
  {
   "cell_type": "code",
   "execution_count": 53,
   "id": "1304ccbc",
   "metadata": {},
   "outputs": [],
   "source": [
    "def limpiaractividades(x):\n",
    "    dicc_actividades = {\"Fishing\":re.search(\".*[Ff](ishing|ISHING).*\",str(x)),\n",
    "                    \"Swimming\":re.search(\".*[Ss](wimming|WIMMing).*\",str(x)),\n",
    "                    \"Kite\":re.search(\".*[Kk](ite|ITE).*\",str(x)),\n",
    "                    \"Walking\":re.search(\".*[Ww](alking|ALKING).*\",str(x)),\n",
    "                    \"Boogie Board\":re.search(\".*[Bb](oogie|OOGIE).*\",str(x)),\n",
    "                    \"Body Boarding\":re.search(\".*[Bb](ody|ODY).*\",str(x)),\n",
    "                    \"Wind Surfing\":re.search(\".*[wW](ind|IND).*\",str(x)),\n",
    "                    \"Boat\":re.search(\".*[Bb](oat|OAT).*\",str(x)),\n",
    "                    \"Interact with sharks\":re.search(\".*[Ss](hark|HARK).*\",str(x)),\n",
    "                    \"Diving\":re.search(\".*[Dd](iving|IVING).*\",str(x)),\n",
    "                    \"Standing in water\":re.search(\".*[Ss](tand|TAND).*\",str(x)),\n",
    "                    \"Paddling\":re.search(\".*[Pp](addl|ADDL).*\",str(x)),\n",
    "                    \"Bathing\":re.search(\".*[Bb](athing|ATHING).*\",str(x)),\n",
    "                    \"OverBoard\":re.search(\".*[Oo](verb|VERB).*\",str(x)),\n",
    "                    \"Bathing\":re.search(\".*[Bb](athing|ATHING).*\",str(x)),\n",
    "                    \"Floating\":re.search(\".*[Ff](loat|LOAT).*\",str(x)),\n",
    "                    \"Jumping\":re.search(\".*[Jj](ump|UMP).*\",str(x))}\n",
    "    for key,values in dicc_actividades.items():\n",
    "        if values:\n",
    "            return key\n",
    "    return \"other\"\n"
   ]
  },
  {
   "cell_type": "code",
   "execution_count": 54,
   "id": "c8657095",
   "metadata": {},
   "outputs": [],
   "source": [
    "shark_2[\"ACTIVITY\"] = shark_2[\"ACTIVITY\"].apply(limpiaractividades)"
   ]
  },
  {
   "cell_type": "code",
   "execution_count": 55,
   "id": "683fee09",
   "metadata": {},
   "outputs": [
    {
     "data": {
      "text/plain": [
       "array(['Paddling', 'Standing in water', 'other', 'Diving', 'Kite',\n",
       "       'Swimming', 'Fishing', 'Walking', 'Interact with sharks',\n",
       "       'Boogie Board', 'Body Boarding', 'Wind Surfing', 'Boat', 'Bathing',\n",
       "       'Floating', 'Jumping', 'OverBoard'], dtype=object)"
      ]
     },
     "execution_count": 55,
     "metadata": {},
     "output_type": "execute_result"
    }
   ],
   "source": [
    "shark_2.ACTIVITY.unique()"
   ]
  },
  {
   "cell_type": "code",
   "execution_count": 56,
   "id": "54cb27c8",
   "metadata": {},
   "outputs": [
    {
     "data": {
      "text/plain": [
       "array(['F', 'M', nan, 'M ', 'lli', 'N', '.'], dtype=object)"
      ]
     },
     "execution_count": 56,
     "metadata": {},
     "output_type": "execute_result"
    }
   ],
   "source": [
    "shark_2.SEX.unique()"
   ]
  },
  {
   "cell_type": "code",
   "execution_count": 57,
   "id": "8d1b26be",
   "metadata": {},
   "outputs": [],
   "source": [
    "shark_2['SEX'].fillna('Unknown', inplace = True)"
   ]
  },
  {
   "cell_type": "code",
   "execution_count": 58,
   "id": "40e5d2e5",
   "metadata": {},
   "outputs": [
    {
     "data": {
      "text/plain": [
       "array(['F', 'M', 'Unknown', 'M ', 'lli', 'N', '.'], dtype=object)"
      ]
     },
     "execution_count": 58,
     "metadata": {},
     "output_type": "execute_result"
    }
   ],
   "source": [
    "shark_2.SEX.unique()"
   ]
  },
  {
   "cell_type": "code",
   "execution_count": 59,
   "id": "7ecabf6f",
   "metadata": {},
   "outputs": [],
   "source": [
    "sex_type = []\n",
    "for e in shark_2['SEX']:\n",
    "    if 'M ' in e:\n",
    "        e =e.replace('M ', 'M')\n",
    "        sex_type.append(e)\n",
    "    elif 'N' in e:\n",
    "        e =e.replace('N' ,'Unknown')\n",
    "        sex_type.append(e)\n",
    "    elif 'lli' in e:\n",
    "        e=e.replace('lli','Unknown')\n",
    "        sex_type.append(e)\n",
    "    elif '.' in e:\n",
    "        e=e.replace('.','Unknown')\n",
    "        sex_type.append(e)\n",
    "    else:\n",
    "        sex_type.append(e)"
   ]
  },
  {
   "cell_type": "code",
   "execution_count": 60,
   "id": "319e6453",
   "metadata": {},
   "outputs": [],
   "source": [
    "shark_2['SEX'] = sex_type"
   ]
  },
  {
   "cell_type": "code",
   "execution_count": 61,
   "id": "7c608231",
   "metadata": {},
   "outputs": [
    {
     "data": {
      "text/plain": [
       "array(['F', 'M', 'Unknown'], dtype=object)"
      ]
     },
     "execution_count": 61,
     "metadata": {},
     "output_type": "execute_result"
    }
   ],
   "source": [
    "shark_2.SEX.unique()"
   ]
  },
  {
   "cell_type": "code",
   "execution_count": 62,
   "id": "956cc3fb",
   "metadata": {},
   "outputs": [],
   "source": [
    "#shark_2['NAME']"
   ]
  },
  {
   "cell_type": "code",
   "execution_count": 63,
   "id": "bfbf482b",
   "metadata": {},
   "outputs": [],
   "source": [
    "shark_2['NAME'].fillna('Unknown', inplace = True)"
   ]
  },
  {
   "cell_type": "code",
   "execution_count": 64,
   "id": "4561a31b",
   "metadata": {},
   "outputs": [],
   "source": [
    "name_type = []\n",
    "for e in shark_2['NAME']:\n",
    "    if 'male' in e:\n",
    "        e =e.replace('male', 'Unknown')\n",
    "        name_type.append(e)\n",
    "    elif 'female' in e:\n",
    "        e =e.replace('female' ,'Unknown')\n",
    "        name_type.append(e)\n",
    "    else:\n",
    "        name_type.append(e)"
   ]
  },
  {
   "cell_type": "code",
   "execution_count": 65,
   "id": "05f0edbc",
   "metadata": {},
   "outputs": [],
   "source": [
    "shark_2['NAME'] = name_type"
   ]
  },
  {
   "cell_type": "code",
   "execution_count": 66,
   "id": "ddbffad7",
   "metadata": {},
   "outputs": [],
   "source": [
    "#columna AGE\n",
    "shark_2['AGE'].fillna('Unknown', inplace = True)"
   ]
  },
  {
   "cell_type": "code",
   "execution_count": 67,
   "id": "6c44f9b3",
   "metadata": {},
   "outputs": [
    {
     "data": {
      "text/plain": [
       "array(['57', '11', '48', 'Unknown', '18', '52', '15', '12', '32', '10',\n",
       "       '21', '34', '30', '60', '33', '29', '54', '41', '37', '56', '19',\n",
       "       '25', '69', '38', '55', '35', '46', '45', '14', '40s', '28', '20',\n",
       "       '24', '26', '49', '22', '7', '31', '17', '40', '13', '42', '3',\n",
       "       '8', '50', '16', '82', '73', '20s', '68', '51', '39', '58', 'Teen',\n",
       "       '47', '61', '65', '36', '66', '43', '60s', '9', '72', '59', '6',\n",
       "       '27', '64', '23', '71', '44', '62', '63', '70', '18 months', '53',\n",
       "       '30s', '50s', 'teen', '77', '74', '28 & 26', '5', '86', '18 or 20',\n",
       "       '12 or 13', '46 & 34', '28, 23 & 30', 'Teens', '36 & 26',\n",
       "       '8 or 10', '84', '\\xa0 ', ' ', '30 or 36', '6½', '21 & ?', '75',\n",
       "       '33 or 37', 'mid-30s', '23 & 20', ' 30', '7      &    31', ' 28',\n",
       "       '20?', \"60's\", '32 & 30', '16 to 18', '87', '67', 'Elderly',\n",
       "       'mid-20s', 'Ca. 33', '74 ', '45 ', '21 or 26', '20 ', '>50',\n",
       "       '18 to 22', 'adult', '9 & 12', '? & 19', '9 months', '25 to 35',\n",
       "       '23 & 26', '1', '(adult)', '33 & 37', '25 or 28',\n",
       "       '37, 67, 35, 27,  ? & 27', '21, 34,24 & 35', '30 & 32', '50 & 30',\n",
       "       '17 & 35', 'X', '\"middle-age\"', '13 or 18', '34 & 19', '33 & 26',\n",
       "       '2 to 3 months', 'MAKE LINE GREEN', ' 43', '81', '\"young\"',\n",
       "       '7 or 8', '78', '17 & 16', 'F', 'Both 11', '9 or 10', 'young',\n",
       "       '36 & 23', '  ', 'A.M.', '?    &   14', '10 or 12', '31 or 33',\n",
       "       '2½', '13 or 14'], dtype=object)"
      ]
     },
     "execution_count": 67,
     "metadata": {},
     "output_type": "execute_result"
    }
   ],
   "source": [
    "shark_2.AGE.unique()"
   ]
  },
  {
   "cell_type": "code",
   "execution_count": 68,
   "id": "0190a79e",
   "metadata": {},
   "outputs": [],
   "source": [
    "age_type = []\n",
    "for e in shark_2['AGE']:\n",
    "    if 'Teen' in e:\n",
    "        e =e.replace('Teen', '30')\n",
    "        age_type.append(e)\n",
    "    elif '18 months' in e:\n",
    "        e =e.replace('18 months' ,'2')\n",
    "        age_type.append(e)\n",
    "    elif 'teen' in e:\n",
    "        e=e.replace('teen','30')\n",
    "        age_type.append(e)\n",
    "    elif 'Teens' in e:\n",
    "        e=e.replace('Teens','30')\n",
    "        age_type.append(e)\n",
    "    elif 'young' in e:\n",
    "        e=e.replace('young','20')\n",
    "        age_type.append(e)\n",
    "    elif 'adult' in e:\n",
    "        e=e.replace('adult','49')\n",
    "        age_type.append(e)\n",
    "        \n",
    "    elif 'elderly' in e:\n",
    "        e=e.replace('elderly','70')\n",
    "        age_type.append(e)\n",
    "        \n",
    "    elif 'middle' in e :\n",
    "        e=e.replace('middle','50')\n",
    "        age_type.append(e)\n",
    "        \n",
    "    elif '18 months' in e:\n",
    "        e=e.replace('18months','1.5')\n",
    "        age_type.append(e)\n",
    "       \n",
    "    elif '9 months' in e:\n",
    "        e=e.replace('9months','0.75')\n",
    "        age_type.append(e)\n",
    "       \n",
    "    elif '2 to 3months' in e:\n",
    "        e=e.replace('2 to 3months','0.2')\n",
    "        age_type.append(e)\n",
    "        \n",
    "       \n",
    "    else:\n",
    "         age_type.append(e)\n",
    "       "
   ]
  },
  {
   "cell_type": "code",
   "execution_count": 69,
   "id": "bf305162",
   "metadata": {},
   "outputs": [],
   "source": [
    "shark_2['AGE'] = age_type"
   ]
  },
  {
   "cell_type": "code",
   "execution_count": 70,
   "id": "df96397b",
   "metadata": {
    "scrolled": true
   },
   "outputs": [
    {
     "data": {
      "text/plain": [
       "array(['57', '11', '48', 'Unknown', '18', '52', '15', '12', '32', '10',\n",
       "       '21', '34', '30', '60', '33', '29', '54', '41', '37', '56', '19',\n",
       "       '25', '69', '38', '55', '35', '46', '45', '14', '40s', '28', '20',\n",
       "       '24', '26', '49', '22', '7', '31', '17', '40', '13', '42', '3',\n",
       "       '8', '50', '16', '82', '73', '20s', '68', '51', '39', '58', '47',\n",
       "       '61', '65', '36', '66', '43', '60s', '9', '72', '59', '6', '27',\n",
       "       '64', '23', '71', '44', '62', '63', '70', '2', '53', '30s', '50s',\n",
       "       '77', '74', '28 & 26', '5', '86', '18 or 20', '12 or 13',\n",
       "       '46 & 34', '28, 23 & 30', '36 & 26', '8 or 10', '84', '\\xa0 ', ' ',\n",
       "       '30 or 36', '6½', '21 & ?', '75', '33 or 37', 'mid-30s', '23 & 20',\n",
       "       ' 30', '7      &    31', ' 28', '20?', \"60's\", '32 & 30',\n",
       "       '16 to 18', '87', '67', 'Elderly', 'mid-20s', 'Ca. 33', '74 ',\n",
       "       '45 ', '21 or 26', '20 ', '>50', '18 to 22', '9 & 12', '? & 19',\n",
       "       '9 months', '25 to 35', '23 & 26', '1', '(49)', '33 & 37',\n",
       "       '25 or 28', '37, 67, 35, 27,  ? & 27', '21, 34,24 & 35', '30 & 32',\n",
       "       '50 & 30', '17 & 35', 'X', '\"50-age\"', '13 or 18', '34 & 19',\n",
       "       '33 & 26', '2 to 3 months', 'MAKE LINE GREEN', ' 43', '81', '\"20\"',\n",
       "       '7 or 8', '78', '17 & 16', 'F', 'Both 11', '9 or 10', '36 & 23',\n",
       "       '  ', 'A.M.', '?    &   14', '10 or 12', '31 or 33', '2½',\n",
       "       '13 or 14'], dtype=object)"
      ]
     },
     "execution_count": 70,
     "metadata": {},
     "output_type": "execute_result"
    }
   ],
   "source": [
    "shark_2.AGE.unique()"
   ]
  },
  {
   "cell_type": "code",
   "execution_count": 71,
   "id": "02e2aa2f",
   "metadata": {},
   "outputs": [
    {
     "data": {
      "text/plain": [
       "array(['No injury to occupant, outrigger canoe and paddle damaged',\n",
       "       'Minor injury to left thigh',\n",
       "       'Injury to left lower leg from surfboard skeg', ...,\n",
       "       'FATAL, leg stripped of flesh  ',\n",
       "       'FATAL, knocked overboard by tail of shark & carried off by shark ',\n",
       "       'FATAL. \"Shark bit him in half, carrying away the lower extremities\" '],\n",
       "      dtype=object)"
      ]
     },
     "execution_count": 71,
     "metadata": {},
     "output_type": "execute_result"
    }
   ],
   "source": [
    "shark_2.INJURY.unique()"
   ]
  },
  {
   "cell_type": "code",
   "execution_count": 72,
   "id": "db2179d9",
   "metadata": {
    "scrolled": true
   },
   "outputs": [
    {
     "data": {
      "text/html": [
       "<div>\n",
       "<style scoped>\n",
       "    .dataframe tbody tr th:only-of-type {\n",
       "        vertical-align: middle;\n",
       "    }\n",
       "\n",
       "    .dataframe tbody tr th {\n",
       "        vertical-align: top;\n",
       "    }\n",
       "\n",
       "    .dataframe thead th {\n",
       "        text-align: right;\n",
       "    }\n",
       "</style>\n",
       "<table border=\"1\" class=\"dataframe\">\n",
       "  <thead>\n",
       "    <tr style=\"text-align: right;\">\n",
       "      <th></th>\n",
       "      <th>FATAL(Y/N)</th>\n",
       "      <th>INJURY</th>\n",
       "    </tr>\n",
       "  </thead>\n",
       "  <tbody>\n",
       "    <tr>\n",
       "      <th>636</th>\n",
       "      <td>N</td>\n",
       "      <td>Lacerations to left forearm</td>\n",
       "    </tr>\n",
       "    <tr>\n",
       "      <th>39</th>\n",
       "      <td>N</td>\n",
       "      <td>The shark &amp; man simply collided; neither were...</td>\n",
       "    </tr>\n",
       "    <tr>\n",
       "      <th>4665</th>\n",
       "      <td>Y</td>\n",
       "      <td>Of the 1,429 people on board, only 448 survive...</td>\n",
       "    </tr>\n",
       "    <tr>\n",
       "      <th>5257</th>\n",
       "      <td>N</td>\n",
       "      <td>Abdomen bitten</td>\n",
       "    </tr>\n",
       "    <tr>\n",
       "      <th>6067</th>\n",
       "      <td>N</td>\n",
       "      <td>Arms &amp; legs severed</td>\n",
       "    </tr>\n",
       "  </tbody>\n",
       "</table>\n",
       "</div>"
      ],
      "text/plain": [
       "     FATAL(Y/N)                                             INJURY\n",
       "636           N                        Lacerations to left forearm\n",
       "39            N   The shark & man simply collided; neither were...\n",
       "4665          Y  Of the 1,429 people on board, only 448 survive...\n",
       "5257          N                                     Abdomen bitten\n",
       "6067          N                                Arms & legs severed"
      ]
     },
     "execution_count": 72,
     "metadata": {},
     "output_type": "execute_result"
    }
   ],
   "source": [
    "shark_2[[\"FATAL(Y/N)\",\"INJURY\"]].sample(5)"
   ]
  },
  {
   "cell_type": "code",
   "execution_count": 73,
   "id": "dda42a02",
   "metadata": {},
   "outputs": [],
   "source": [
    "#tomamos la decision de cambiar todas aquellas frases que aparezca la palabra fatal e incluya tb en la frase la palabra\n",
    "#'non' a 'fatal', el restos lo dejamos en no injuri y injury.\n",
    "\n",
    "def injurys (string):\n",
    "    x = str(string).lower() \n",
    "    if \"fatal\" in x and \"non\" not in x:\n",
    "        return \"fatal\"\n",
    "    elif \"no injury\" in x or \"not injured\" in x:\n",
    "        return \"no injury\"\n",
    "    else:\n",
    "        return \"injury\"\n",
    "\n"
   ]
  },
  {
   "cell_type": "code",
   "execution_count": 74,
   "id": "c45f7c88",
   "metadata": {},
   "outputs": [],
   "source": [
    "shark_2[\"INJURY\"] = shark_2[\"INJURY\"].apply(injurys)"
   ]
  },
  {
   "cell_type": "code",
   "execution_count": 75,
   "id": "92090960",
   "metadata": {},
   "outputs": [
    {
     "data": {
      "text/plain": [
       "array(['no injury', 'injury', 'fatal'], dtype=object)"
      ]
     },
     "execution_count": 75,
     "metadata": {},
     "output_type": "execute_result"
    }
   ],
   "source": [
    "shark_2.INJURY.unique()"
   ]
  },
  {
   "cell_type": "code",
   "execution_count": 76,
   "id": "da972a9b",
   "metadata": {},
   "outputs": [
    {
     "data": {
      "text/html": [
       "<div>\n",
       "<style scoped>\n",
       "    .dataframe tbody tr th:only-of-type {\n",
       "        vertical-align: middle;\n",
       "    }\n",
       "\n",
       "    .dataframe tbody tr th {\n",
       "        vertical-align: top;\n",
       "    }\n",
       "\n",
       "    .dataframe thead th {\n",
       "        text-align: right;\n",
       "    }\n",
       "</style>\n",
       "<table border=\"1\" class=\"dataframe\">\n",
       "  <thead>\n",
       "    <tr style=\"text-align: right;\">\n",
       "      <th></th>\n",
       "      <th>FATAL(Y/N)</th>\n",
       "      <th>INJURY</th>\n",
       "    </tr>\n",
       "  </thead>\n",
       "  <tbody>\n",
       "    <tr>\n",
       "      <th>432</th>\n",
       "      <td>N</td>\n",
       "      <td>no injury</td>\n",
       "    </tr>\n",
       "    <tr>\n",
       "      <th>5495</th>\n",
       "      <td>Y</td>\n",
       "      <td>fatal</td>\n",
       "    </tr>\n",
       "    <tr>\n",
       "      <th>4993</th>\n",
       "      <td>Y</td>\n",
       "      <td>fatal</td>\n",
       "    </tr>\n",
       "    <tr>\n",
       "      <th>5196</th>\n",
       "      <td>N/A</td>\n",
       "      <td>fatal</td>\n",
       "    </tr>\n",
       "    <tr>\n",
       "      <th>2061</th>\n",
       "      <td>N</td>\n",
       "      <td>injury</td>\n",
       "    </tr>\n",
       "  </tbody>\n",
       "</table>\n",
       "</div>"
      ],
      "text/plain": [
       "     FATAL(Y/N)     INJURY\n",
       "432           N  no injury\n",
       "5495          Y      fatal\n",
       "4993          Y      fatal\n",
       "5196        N/A      fatal\n",
       "2061          N     injury"
      ]
     },
     "execution_count": 76,
     "metadata": {},
     "output_type": "execute_result"
    }
   ],
   "source": [
    "shark_2[[\"FATAL(Y/N)\",\"INJURY\"]].sample(5)"
   ]
  },
  {
   "cell_type": "code",
   "execution_count": 77,
   "id": "57a6b6b4",
   "metadata": {},
   "outputs": [
    {
     "name": "stdout",
     "output_type": "stream",
     "text": [
      "<class 'pandas.core.frame.DataFrame'>\n",
      "Int64Index: 6311 entries, 0 to 25722\n",
      "Data columns (total 22 columns):\n",
      " #   Column                Non-Null Count  Dtype  \n",
      "---  ------                --------------  -----  \n",
      " 0   CASENUMBER            6311 non-null   object \n",
      " 1   DATE                  6311 non-null   object \n",
      " 2   YEAR                  6311 non-null   object \n",
      " 3   TYPE                  6311 non-null   object \n",
      " 4   COUNTRY               6311 non-null   object \n",
      " 5   AREA                  6311 non-null   object \n",
      " 6   LOCATION              6311 non-null   object \n",
      " 7   ACTIVITY              6311 non-null   object \n",
      " 8   NAME                  6311 non-null   object \n",
      " 9   SEX                   6311 non-null   object \n",
      " 10  AGE                   6311 non-null   object \n",
      " 11  INJURY                6311 non-null   object \n",
      " 12  FATAL(Y/N)            6311 non-null   object \n",
      " 13  TIME                  2948 non-null   object \n",
      " 14  SPECIES               3464 non-null   object \n",
      " 15  INVESTIGATORORSOURCE  6285 non-null   object \n",
      " 16  PDF                   6302 non-null   object \n",
      " 17  HREFFORMULA           6301 non-null   object \n",
      " 18  HREF                  6302 non-null   object \n",
      " 19  CASENUMBER.1          6302 non-null   object \n",
      " 20  CASENUMBER.2          6302 non-null   object \n",
      " 21  ORIGINALORDER         6309 non-null   float64\n",
      "dtypes: float64(1), object(21)\n",
      "memory usage: 1.1+ MB\n"
     ]
    }
   ],
   "source": [
    "shark_2.info()"
   ]
  },
  {
   "cell_type": "code",
   "execution_count": 78,
   "id": "3fe93d08",
   "metadata": {},
   "outputs": [],
   "source": [
    "#eliminamos nulos en la columna TIME\n",
    "shark_2['TIME'].fillna('Unknown', inplace = True)"
   ]
  },
  {
   "cell_type": "code",
   "execution_count": 79,
   "id": "34c679d1",
   "metadata": {},
   "outputs": [
    {
     "name": "stdout",
     "output_type": "stream",
     "text": [
      "<class 'pandas.core.frame.DataFrame'>\n",
      "Int64Index: 6311 entries, 0 to 25722\n",
      "Data columns (total 22 columns):\n",
      " #   Column                Non-Null Count  Dtype  \n",
      "---  ------                --------------  -----  \n",
      " 0   CASENUMBER            6311 non-null   object \n",
      " 1   DATE                  6311 non-null   object \n",
      " 2   YEAR                  6311 non-null   object \n",
      " 3   TYPE                  6311 non-null   object \n",
      " 4   COUNTRY               6311 non-null   object \n",
      " 5   AREA                  6311 non-null   object \n",
      " 6   LOCATION              6311 non-null   object \n",
      " 7   ACTIVITY              6311 non-null   object \n",
      " 8   NAME                  6311 non-null   object \n",
      " 9   SEX                   6311 non-null   object \n",
      " 10  AGE                   6311 non-null   object \n",
      " 11  INJURY                6311 non-null   object \n",
      " 12  FATAL(Y/N)            6311 non-null   object \n",
      " 13  TIME                  6311 non-null   object \n",
      " 14  SPECIES               3464 non-null   object \n",
      " 15  INVESTIGATORORSOURCE  6285 non-null   object \n",
      " 16  PDF                   6302 non-null   object \n",
      " 17  HREFFORMULA           6301 non-null   object \n",
      " 18  HREF                  6302 non-null   object \n",
      " 19  CASENUMBER.1          6302 non-null   object \n",
      " 20  CASENUMBER.2          6302 non-null   object \n",
      " 21  ORIGINALORDER         6309 non-null   float64\n",
      "dtypes: float64(1), object(21)\n",
      "memory usage: 1.1+ MB\n"
     ]
    }
   ],
   "source": [
    "shark_2.info()"
   ]
  },
  {
   "cell_type": "code",
   "execution_count": 80,
   "id": "7bede629",
   "metadata": {},
   "outputs": [
    {
     "data": {
      "text/plain": [
       "4570                                   Possibly C. leucas\n",
       "623                                              3' shark\n",
       "3916    Grey reef shark, 1.8 m [6'] grey reef shark, i...\n",
       "3408                                                  NaN\n",
       "3730                                                  NaN\n",
       "2207                                                  NaN\n",
       "4611                                                  NaN\n",
       "2254                                Possibly a sand shark\n",
       "Name: SPECIES, dtype: object"
      ]
     },
     "execution_count": 80,
     "metadata": {},
     "output_type": "execute_result"
    }
   ],
   "source": [
    "shark_2.SPECIES.sample(8)"
   ]
  },
  {
   "cell_type": "code",
   "execution_count": 81,
   "id": "5e559236",
   "metadata": {},
   "outputs": [],
   "source": [
    "shark_2['SPECIES'].fillna('Unknown', inplace = True)"
   ]
  },
  {
   "cell_type": "code",
   "execution_count": 82,
   "id": "98bcbd9b",
   "metadata": {},
   "outputs": [
    {
     "name": "stdout",
     "output_type": "stream",
     "text": [
      "<class 'pandas.core.frame.DataFrame'>\n",
      "Int64Index: 6311 entries, 0 to 25722\n",
      "Data columns (total 22 columns):\n",
      " #   Column                Non-Null Count  Dtype  \n",
      "---  ------                --------------  -----  \n",
      " 0   CASENUMBER            6311 non-null   object \n",
      " 1   DATE                  6311 non-null   object \n",
      " 2   YEAR                  6311 non-null   object \n",
      " 3   TYPE                  6311 non-null   object \n",
      " 4   COUNTRY               6311 non-null   object \n",
      " 5   AREA                  6311 non-null   object \n",
      " 6   LOCATION              6311 non-null   object \n",
      " 7   ACTIVITY              6311 non-null   object \n",
      " 8   NAME                  6311 non-null   object \n",
      " 9   SEX                   6311 non-null   object \n",
      " 10  AGE                   6311 non-null   object \n",
      " 11  INJURY                6311 non-null   object \n",
      " 12  FATAL(Y/N)            6311 non-null   object \n",
      " 13  TIME                  6311 non-null   object \n",
      " 14  SPECIES               6311 non-null   object \n",
      " 15  INVESTIGATORORSOURCE  6285 non-null   object \n",
      " 16  PDF                   6302 non-null   object \n",
      " 17  HREFFORMULA           6301 non-null   object \n",
      " 18  HREF                  6302 non-null   object \n",
      " 19  CASENUMBER.1          6302 non-null   object \n",
      " 20  CASENUMBER.2          6302 non-null   object \n",
      " 21  ORIGINALORDER         6309 non-null   float64\n",
      "dtypes: float64(1), object(21)\n",
      "memory usage: 1.1+ MB\n"
     ]
    }
   ],
   "source": [
    "shark_2.info()"
   ]
  },
  {
   "cell_type": "markdown",
   "id": "206b4366",
   "metadata": {},
   "source": [
    "Vamos a limpiar la columna Species. De un primer vistazo vemos que esta desordenada. Vamos a acotar y categorizar\n",
    "los tipos de especies. \n",
    "En la columna 'HREF' vemos la pagina 'https://sharkattackfile.net/species.htm' que nos muestra las especies que mas están envueltas en los ataques."
   ]
  },
  {
   "cell_type": "code",
   "execution_count": 83,
   "id": "5e1b5e69",
   "metadata": {},
   "outputs": [
    {
     "data": {
      "text/plain": [
       "14' to 16' white shark                  1\n",
       " Grey nurse shark,  3 m [10']           1\n",
       "Bull shark or lemon shark               1\n",
       "1.5 m [5'] blacktip shark               1\n",
       "White shark, 7'                         1\n",
       "2 m to 2.5 m [6.75'  to 8.25'] shark    2\n",
       "Tiger shark, 14'                        4\n",
       "Tiger shark, 3 to 4 m [10' to 13']      1\n",
       "Name: SPECIES, dtype: int64"
      ]
     },
     "execution_count": 83,
     "metadata": {},
     "output_type": "execute_result"
    }
   ],
   "source": [
    "\n",
    "shark_2[\"SPECIES\"].value_counts().sample(8)"
   ]
  },
  {
   "cell_type": "code",
   "execution_count": 84,
   "id": "dcc3c52e",
   "metadata": {},
   "outputs": [],
   "source": [
    "\n",
    "def column_species (string):\n",
    "    x = str(string).lower()\n",
    "    if \"white\" in x or \"White\" in x:\n",
    "        return \"white\"\n",
    "    elif \"tiger\" in x or \"Tiger\" in x:\n",
    "        return \"tiger\"\n",
    "    elif \"bull\" in x or \"Bull\"in x:\n",
    "        return \"bull\"\n",
    "    elif \"mako\" in x or \"shortfin\"in x:\n",
    "        return \"mako\"\n",
    "    elif \"lemon\" in x or \"Lemon\"in x:\n",
    "        return \"lemon\"\n",
    "    elif \"oceanic\" in x or \"whitetip\" in x:\n",
    "        return \"whitetip reef\"\n",
    "    elif \"blue\" in x:\n",
    "        return \"blue\"   \n",
    "    elif \"nurse\" in x:\n",
    "        return \"nurse\"\n",
    "    elif \"caribbean\" in x:\n",
    "        return \"caribbean reef\" \n",
    "    elif \"blacktail\" in x or \"blacktip\" in x:\n",
    "        return \"blacktip\"\n",
    "    elif \"grey\" in x or \"gray\" in x:\n",
    "        return \"grey reef shark\"\n",
    "    elif \"wobbegong\" in x:\n",
    "        return \"wobbegong\"   \n",
    "    elif \"spinner\" in x:\n",
    "        return \"spinner\"    \n",
    "    elif \"galapagos\" in x:\n",
    "        return \"galapagos\"\n",
    "    elif \"hammerhead\" in x:\n",
    "        return \"hammerhead\"   \n",
    "    elif \"sandbar\" in x:\n",
    "        return \"sand tiger\"    \n",
    "    elif \"silky\" in x:\n",
    "        return \"silky\"\n",
    "    elif \"whaler\" in x:\n",
    "        return \"bronze whaler\"\n",
    "    elif \"sevengill \" in x:\n",
    "        return \"broadnose sevengill\"\n",
    "    elif \"unconfirmed\" in x or \"questionable \" in x:\n",
    "        return \"Unknown\"\n",
    "    else:\n",
    "        return \"Unknown\""
   ]
  },
  {
   "cell_type": "code",
   "execution_count": 85,
   "id": "76f0c6a1",
   "metadata": {},
   "outputs": [],
   "source": [
    "shark_2[\"SPECIES\"] = shark_2[\"SPECIES\"].apply(column_species)"
   ]
  },
  {
   "cell_type": "code",
   "execution_count": 86,
   "id": "a2f113a2",
   "metadata": {},
   "outputs": [
    {
     "data": {
      "text/plain": [
       "Unknown                4577\n",
       "white                   667\n",
       "tiger                   283\n",
       "bull                    178\n",
       "blacktip                101\n",
       "nurse                    96\n",
       "bronze whaler            70\n",
       "blue                     56\n",
       "mako                     55\n",
       "wobbegong                50\n",
       "hammerhead               48\n",
       "lemon                    34\n",
       "grey reef shark          29\n",
       "spinner                  21\n",
       "caribbean reef           17\n",
       "broadnose sevengill      13\n",
       "galapagos                 7\n",
       "sand tiger                5\n",
       "silky                     4\n",
       "Name: SPECIES, dtype: int64"
      ]
     },
     "execution_count": 86,
     "metadata": {},
     "output_type": "execute_result"
    }
   ],
   "source": [
    "#Observamos que el tiburón blanco es la especie que más ataca\n",
    "shark_2[\"SPECIES\"].value_counts()"
   ]
  },
  {
   "cell_type": "code",
   "execution_count": 87,
   "id": "3bb947d4",
   "metadata": {},
   "outputs": [],
   "source": [
    "#El resto de columnas  no nos interesa para nuestro analisis. Todos los non.null los pasamos a Unknown"
   ]
  },
  {
   "cell_type": "code",
   "execution_count": 88,
   "id": "ca73f2ca",
   "metadata": {},
   "outputs": [],
   "source": [
    "shark_2['HREF'].fillna('Unknown', inplace = True)"
   ]
  },
  {
   "cell_type": "code",
   "execution_count": 89,
   "id": "03a92325",
   "metadata": {},
   "outputs": [],
   "source": [
    "shark_2['INVESTIGATORORSOURCE'].fillna('Unknown', inplace = True)"
   ]
  },
  {
   "cell_type": "code",
   "execution_count": 90,
   "id": "3dfe80e0",
   "metadata": {},
   "outputs": [],
   "source": [
    "shark_2['PDF'].fillna('Unknown', inplace = True)"
   ]
  },
  {
   "cell_type": "code",
   "execution_count": 91,
   "id": "c4dbb14d",
   "metadata": {},
   "outputs": [],
   "source": [
    "shark_2['HREFFORMULA'].fillna('Unknown', inplace = True)"
   ]
  },
  {
   "cell_type": "code",
   "execution_count": 92,
   "id": "2b7e2ae3",
   "metadata": {},
   "outputs": [],
   "source": [
    "shark_2['ORIGINALORDER'].fillna('Unknown', inplace = True)"
   ]
  },
  {
   "cell_type": "code",
   "execution_count": 93,
   "id": "22a46767",
   "metadata": {},
   "outputs": [],
   "source": [
    "shark_2['CASENUMBER.1'].fillna('Unknown', inplace = True)"
   ]
  },
  {
   "cell_type": "code",
   "execution_count": 94,
   "id": "bc913950",
   "metadata": {},
   "outputs": [],
   "source": [
    "shark_2['CASENUMBER.2'].fillna('Unknown', inplace = True)"
   ]
  },
  {
   "cell_type": "code",
   "execution_count": 95,
   "id": "5e05068d",
   "metadata": {},
   "outputs": [
    {
     "name": "stdout",
     "output_type": "stream",
     "text": [
      "<class 'pandas.core.frame.DataFrame'>\n",
      "Int64Index: 6311 entries, 0 to 25722\n",
      "Data columns (total 22 columns):\n",
      " #   Column                Non-Null Count  Dtype \n",
      "---  ------                --------------  ----- \n",
      " 0   CASENUMBER            6311 non-null   object\n",
      " 1   DATE                  6311 non-null   object\n",
      " 2   YEAR                  6311 non-null   object\n",
      " 3   TYPE                  6311 non-null   object\n",
      " 4   COUNTRY               6311 non-null   object\n",
      " 5   AREA                  6311 non-null   object\n",
      " 6   LOCATION              6311 non-null   object\n",
      " 7   ACTIVITY              6311 non-null   object\n",
      " 8   NAME                  6311 non-null   object\n",
      " 9   SEX                   6311 non-null   object\n",
      " 10  AGE                   6311 non-null   object\n",
      " 11  INJURY                6311 non-null   object\n",
      " 12  FATAL(Y/N)            6311 non-null   object\n",
      " 13  TIME                  6311 non-null   object\n",
      " 14  SPECIES               6311 non-null   object\n",
      " 15  INVESTIGATORORSOURCE  6311 non-null   object\n",
      " 16  PDF                   6311 non-null   object\n",
      " 17  HREFFORMULA           6311 non-null   object\n",
      " 18  HREF                  6311 non-null   object\n",
      " 19  CASENUMBER.1          6311 non-null   object\n",
      " 20  CASENUMBER.2          6311 non-null   object\n",
      " 21  ORIGINALORDER         6311 non-null   object\n",
      "dtypes: object(22)\n",
      "memory usage: 1.1+ MB\n"
     ]
    }
   ],
   "source": [
    "shark_2.info()"
   ]
  },
  {
   "cell_type": "code",
   "execution_count": 96,
   "id": "2cf1edbe",
   "metadata": {},
   "outputs": [],
   "source": [
    "pd.set_option('display.max_columns', None)"
   ]
  },
  {
   "cell_type": "code",
   "execution_count": 97,
   "id": "f517f024",
   "metadata": {},
   "outputs": [
    {
     "data": {
      "text/plain": [
       "((6311, 22), (25723, 24))"
      ]
     },
     "execution_count": 97,
     "metadata": {},
     "output_type": "execute_result"
    }
   ],
   "source": [
    "shark_2.shape, shark_ori.shape"
   ]
  },
  {
   "cell_type": "code",
   "execution_count": 98,
   "id": "4dd06559",
   "metadata": {},
   "outputs": [
    {
     "data": {
      "text/plain": [
       "Unknown                4577\n",
       "white                   667\n",
       "tiger                   283\n",
       "bull                    178\n",
       "blacktip                101\n",
       "nurse                    96\n",
       "bronze whaler            70\n",
       "blue                     56\n",
       "mako                     55\n",
       "wobbegong                50\n",
       "hammerhead               48\n",
       "lemon                    34\n",
       "grey reef shark          29\n",
       "spinner                  21\n",
       "caribbean reef           17\n",
       "broadnose sevengill      13\n",
       "galapagos                 7\n",
       "sand tiger                5\n",
       "silky                     4\n",
       "Name: SPECIES, dtype: int64"
      ]
     },
     "execution_count": 98,
     "metadata": {},
     "output_type": "execute_result"
    }
   ],
   "source": [
    "#ANALIZAREMOS AHORA NUESTRO OBJETIVO\n",
    "shark_2[\"SPECIES\"].value_counts()"
   ]
  },
  {
   "cell_type": "code",
   "execution_count": 99,
   "id": "c0eb258d",
   "metadata": {},
   "outputs": [],
   "source": [
    "#Vemos que el tiburón blanco es la especie que más se repite y por tanto más incidencias tiene."
   ]
  },
  {
   "cell_type": "code",
   "execution_count": 100,
   "id": "baee8670",
   "metadata": {},
   "outputs": [],
   "source": [
    "shark_2.reset_index(drop=True, inplace=True)"
   ]
  },
  {
   "cell_type": "code",
   "execution_count": 101,
   "id": "23caa55b",
   "metadata": {},
   "outputs": [
    {
     "name": "stdout",
     "output_type": "stream",
     "text": [
      "<class 'pandas.core.frame.DataFrame'>\n",
      "RangeIndex: 6311 entries, 0 to 6310\n",
      "Data columns (total 22 columns):\n",
      " #   Column                Non-Null Count  Dtype \n",
      "---  ------                --------------  ----- \n",
      " 0   CASENUMBER            6311 non-null   object\n",
      " 1   DATE                  6311 non-null   object\n",
      " 2   YEAR                  6311 non-null   object\n",
      " 3   TYPE                  6311 non-null   object\n",
      " 4   COUNTRY               6311 non-null   object\n",
      " 5   AREA                  6311 non-null   object\n",
      " 6   LOCATION              6311 non-null   object\n",
      " 7   ACTIVITY              6311 non-null   object\n",
      " 8   NAME                  6311 non-null   object\n",
      " 9   SEX                   6311 non-null   object\n",
      " 10  AGE                   6311 non-null   object\n",
      " 11  INJURY                6311 non-null   object\n",
      " 12  FATAL(Y/N)            6311 non-null   object\n",
      " 13  TIME                  6311 non-null   object\n",
      " 14  SPECIES               6311 non-null   object\n",
      " 15  INVESTIGATORORSOURCE  6311 non-null   object\n",
      " 16  PDF                   6311 non-null   object\n",
      " 17  HREFFORMULA           6311 non-null   object\n",
      " 18  HREF                  6311 non-null   object\n",
      " 19  CASENUMBER.1          6311 non-null   object\n",
      " 20  CASENUMBER.2          6311 non-null   object\n",
      " 21  ORIGINALORDER         6311 non-null   object\n",
      "dtypes: object(22)\n",
      "memory usage: 1.1+ MB\n"
     ]
    }
   ],
   "source": [
    "shark_2.info()"
   ]
  },
  {
   "cell_type": "code",
   "execution_count": 102,
   "id": "f7c7b304",
   "metadata": {},
   "outputs": [
    {
     "name": "stdout",
     "output_type": "stream",
     "text": [
      "CASENUMBER\n",
      "DATE\n",
      "YEAR\n",
      "TYPE\n",
      "COUNTRY\n",
      "AREA\n",
      "LOCATION\n",
      "ACTIVITY\n",
      "NAME\n",
      "SEX\n",
      "AGE\n",
      "INJURY\n",
      "FATAL(Y/N)\n",
      "TIME\n",
      "SPECIES\n",
      "INVESTIGATORORSOURCE\n",
      "PDF\n",
      "HREFFORMULA\n",
      "HREF\n",
      "CASENUMBER.1\n",
      "CASENUMBER.2\n",
      "ORIGINALORDER\n"
     ]
    }
   ],
   "source": [
    "for c in shark_2:\n",
    "    print(c)"
   ]
  },
  {
   "cell_type": "code",
   "execution_count": 103,
   "id": "72c9ccb2",
   "metadata": {},
   "outputs": [
    {
     "name": "stdout",
     "output_type": "stream",
     "text": [
      "<class 'pandas.core.frame.DataFrame'>\n",
      "RangeIndex: 6311 entries, 0 to 6310\n",
      "Data columns (total 22 columns):\n",
      " #   Column                Non-Null Count  Dtype   \n",
      "---  ------                --------------  -----   \n",
      " 0   CASENUMBER            6311 non-null   category\n",
      " 1   DATE                  6311 non-null   category\n",
      " 2   YEAR                  6311 non-null   category\n",
      " 3   TYPE                  6311 non-null   category\n",
      " 4   COUNTRY               6311 non-null   category\n",
      " 5   AREA                  6311 non-null   category\n",
      " 6   LOCATION              6311 non-null   category\n",
      " 7   ACTIVITY              6311 non-null   category\n",
      " 8   NAME                  6311 non-null   category\n",
      " 9   SEX                   6311 non-null   category\n",
      " 10  AGE                   6311 non-null   category\n",
      " 11  INJURY                6311 non-null   category\n",
      " 12  FATAL(Y/N)            6311 non-null   category\n",
      " 13  TIME                  6311 non-null   category\n",
      " 14  SPECIES               6311 non-null   category\n",
      " 15  INVESTIGATORORSOURCE  6311 non-null   category\n",
      " 16  PDF                   6311 non-null   category\n",
      " 17  HREFFORMULA           6311 non-null   category\n",
      " 18  HREF                  6311 non-null   category\n",
      " 19  CASENUMBER.1          6311 non-null   category\n",
      " 20  CASENUMBER.2          6311 non-null   category\n",
      " 21  ORIGINALORDER         6311 non-null   category\n",
      "dtypes: category(22)\n",
      "memory usage: 7.3 MB\n"
     ]
    }
   ],
   "source": [
    "for c in shark_2.select_dtypes('object').columns:\n",
    "    \n",
    "    shark_2[c]=shark_2[c].astype('category')\n",
    "    \n",
    "shark_2.info(memory_usage='deep')"
   ]
  },
  {
   "cell_type": "code",
   "execution_count": 104,
   "id": "c3e1cd55",
   "metadata": {},
   "outputs": [
    {
     "data": {
      "text/plain": [
       "str"
      ]
     },
     "execution_count": 104,
     "metadata": {},
     "output_type": "execute_result"
    }
   ],
   "source": [
    "type(shark_2.COUNTRY[0])"
   ]
  },
  {
   "cell_type": "code",
   "execution_count": 106,
   "id": "d227eb1d",
   "metadata": {},
   "outputs": [
    {
     "name": "stdout",
     "output_type": "stream",
     "text": [
      "N      4301\n",
      "Y      1389\n",
      "N/A     621\n",
      "Name: FATAL(Y/N), dtype: int64\n"
     ]
    },
    {
     "data": {
      "image/png": "[encoded data removed]",
      "text/plain": [
       "<Figure size 432x432 with 1 Axes>"
      ]
     },
     "metadata": {},
     "output_type": "display_data"
    }
   ],
   "source": [
    "print(shark_2['FATAL(Y/N)'].value_counts())\n",
    "explode = [0.1 for i in range(len(shark_2['FATAL(Y/N)'].value_counts().index.tolist()))]\n",
    "\n",
    "chart = plt.gcf()\n",
    "chart.set_size_inches(6,6)\n",
    "plt.pie([e for e in shark_2['FATAL(Y/N)'].value_counts()], explode = explode, labels=shark_2['FATAL(Y/N)'].value_counts().index.tolist(), autopct='%1.1f%%', shadow=True, startangle=140)\n",
    "plt.axis('equal')\n",
    "plt.show()"
   ]
  },
  {
   "cell_type": "code",
   "execution_count": 107,
   "id": "466b8a62",
   "metadata": {},
   "outputs": [
    {
     "name": "stdout",
     "output_type": "stream",
     "text": [
      "N      4301\n",
      "Y      1389\n",
      "N/A     621\n",
      "Name: FATAL(Y/N), dtype: int64\n"
     ]
    },
    {
     "data": {
      "image/png": "[encoded data removed]",
      "text/plain": [
       "<Figure size 432x432 with 1 Axes>"
      ]
     },
     "metadata": {},
     "output_type": "display_data"
    }
   ],
   "source": [
    "print(shark_2['FATAL(Y/N)'].value_counts())\n",
    "explode = [0.1 for i in range(len(shark_2['FATAL(Y/N)'].value_counts().index.tolist()))]\n",
    "\n",
    "chart = plt.gcf()\n",
    "chart.set_size_inches(6,6)\n",
    "plt.pie([e for e in shark_2['FATAL(Y/N)'].value_counts()], explode = explode, labels=shark_2['FATAL(Y/N)'].value_counts().index.tolist(), autopct='%1.1f%%', shadow=True, startangle=140)\n",
    "plt.axis('equal')\n",
    "plt.show()"
   ]
  },
  {
   "cell_type": "code",
   "execution_count": null,
   "id": "15e7979c",
   "metadata": {},
   "outputs": [],
   "source": [
    "#vemos que la mayoria de ataques no son mortales"
   ]
  },
  {
   "cell_type": "code",
   "execution_count": 108,
   "id": "65f5e47d",
   "metadata": {},
   "outputs": [
    {
     "data": {
      "image/png": "[encoded data removed]",
      "text/plain": [
       "<Figure size 720x432 with 1 Axes>"
      ]
     },
     "metadata": {
      "needs_background": "light"
     },
     "output_type": "display_data"
    }
   ],
   "source": [
    "#Tabla con los ataques a Male o Female\n",
    "plt.figure(figsize=(10, 6))\n",
    "\n",
    "shark_2.SEX.hist(bins=100)\n",
    "\n",
    "plt.ylabel('# Count')\n",
    "plt.xlabel('SEX');"
   ]
  },
  {
   "cell_type": "code",
   "execution_count": 109,
   "id": "69a1ef84",
   "metadata": {},
   "outputs": [
    {
     "data": {
      "text/plain": [
       "<AxesSubplot:title={'center':'Ataques'}, xlabel='SEX', ylabel='Count'>"
      ]
     },
     "execution_count": 109,
     "metadata": {},
     "output_type": "execute_result"
    },
    {
     "data": {
      "image/png": "[encoded data removed]",
      "text/plain": [
       "<Figure size 432x288 with 1 Axes>"
      ]
     },
     "metadata": {
      "needs_background": "light"
     },
     "output_type": "display_data"
    }
   ],
   "source": [
    "#Tabien se puede hacer de esta otra forma\n",
    "plt.title('Ataques')\n",
    "plt.xlabel('SEX')\n",
    "plt.ylabel('Count')\n",
    "shark_2['SEX'].value_counts().plot(kind='bar',)"
   ]
  },
  {
   "cell_type": "code",
   "execution_count": 110,
   "id": "6c2afebd",
   "metadata": {},
   "outputs": [],
   "source": [
    "#Creamos una columna donde filtra las filas que contengan la palabra white y el resto otro.\n",
    "def white_shark(x):\n",
    "    x = str(x)\n",
    "    match = re.search(r\"[Ww](hite|HITE)\", x)\n",
    "    \n",
    "    if match:\n",
    "        return \"White Shark\"\n",
    "    else:\n",
    "        return \"Otro\""
   ]
  },
  {
   "cell_type": "code",
   "execution_count": 111,
   "id": "aee59a1d",
   "metadata": {},
   "outputs": [
    {
     "data": {
      "text/plain": [
       "array(['White Shark', 'Otro'], dtype=object)"
      ]
     },
     "execution_count": 111,
     "metadata": {},
     "output_type": "execute_result"
    }
   ],
   "source": [
    "shark_2[\"WhiteShark\"] = shark_2[\"SPECIES\"].apply(white_shark)\n",
    "shark_2.WhiteShark.unique()"
   ]
  },
  {
   "cell_type": "code",
   "execution_count": 112,
   "id": "b57be8bc",
   "metadata": {},
   "outputs": [],
   "source": [
    "white = shark_2[(shark_2['WhiteShark']=='White Shark') & \n",
    "                ((shark_2['SEX']=='M') | \n",
    "                (shark_2['SEX']=='F'))]\n"
   ]
  },
  {
   "cell_type": "code",
   "execution_count": 113,
   "id": "a2238c14",
   "metadata": {},
   "outputs": [
    {
     "data": {
      "text/plain": [
       "<AxesSubplot:title={'center':'White Shark Attacks'}, xlabel='SEX'>"
      ]
     },
     "execution_count": 113,
     "metadata": {},
     "output_type": "execute_result"
    },
    {
     "data": {
      "image/png": "[encoded data removed]",
      "text/plain": [
       "<Figure size 432x288 with 1 Axes>"
      ]
     },
     "metadata": {
      "needs_background": "light"
     },
     "output_type": "display_data"
    }
   ],
   "source": [
    "#Creamos un grafico donde solo nos muestre los ataques de tiburones blancos al SEX(M,F)\n",
    "white.groupby(['SEX','WhiteShark']).size().unstack().plot(kind='bar',\n",
    "                                                                  stacked=True, rot=0, title=\"White Shark Attacks\", color=[\"#3089c5\",\"#4bbdcc\",\"#4babbb\"])"
   ]
  },
  {
   "cell_type": "code",
   "execution_count": 114,
   "id": "d471f409",
   "metadata": {},
   "outputs": [
    {
     "data": {
      "text/plain": [
       "<AxesSubplot:title={'center':'White Shark Attacks'}, xlabel='FATAL(Y/N)'>"
      ]
     },
     "execution_count": 114,
     "metadata": {},
     "output_type": "execute_result"
    },
    {
     "data": {
      "image/png": "[encoded data removed]",
      "text/plain": [
       "<Figure size 432x288 with 1 Axes>"
      ]
     },
     "metadata": {
      "needs_background": "light"
     },
     "output_type": "display_data"
    }
   ],
   "source": [
    "#Creamos un grafico donde solo nos muestre si los ataques de tiburones blancos son fatal o no\n",
    "white.groupby(['FATAL(Y/N)','WhiteShark']).size().unstack().plot(kind='bar',\n",
    "                                                                  stacked=True, rot=0, title=\"White Shark Attacks\", color=[\"#3089c5\",\"#4bbdcc\",\"#4babbb\"])"
   ]
  },
  {
   "cell_type": "code",
   "execution_count": 115,
   "id": "b8e554f7",
   "metadata": {},
   "outputs": [
    {
     "name": "stdout",
     "output_type": "stream",
     "text": [
      "Unprovoked      4595\n",
      "Provoked         574\n",
      "Invalid          547\n",
      "Boat             341\n",
      "Sea Disaster     239\n",
      "Unknown           15\n",
      "Name: TYPE, dtype: int64\n"
     ]
    },
    {
     "data": {
      "image/png": "[encoded data removed]",
      "text/plain": [
       "<Figure size 504x504 with 1 Axes>"
      ]
     },
     "metadata": {},
     "output_type": "display_data"
    }
   ],
   "source": [
    "#creamos otro grafico para observar el % de ataques en la columna TYPE\n",
    "print(shark_2['TYPE'].value_counts())\n",
    "explode = [0.1 for i in range(len(shark_2['TYPE'].value_counts().index.tolist()))]\n",
    "\n",
    "chart = plt.gcf()\n",
    "chart.set_size_inches(7,7)\n",
    "plt.pie([e for e in shark_2['TYPE'].value_counts()], explode = explode, labels=shark_2['TYPE'].value_counts().index.tolist(), autopct='%1.1f%%', shadow=True, startangle=140)\n",
    "plt.axis('equal')\n",
    "plt.show()"
   ]
  },
  {
   "cell_type": "code",
   "execution_count": 117,
   "id": "a72d903c",
   "metadata": {},
   "outputs": [],
   "source": [
    "shark_2.to_csv('sharkclean.csv', index=False, sep=',') "
   ]
  },
  {
   "cell_type": "code",
   "execution_count": null,
   "id": "8dab2035",
   "metadata": {},
   "outputs": [],
   "source": []
  },
  {
   "cell_type": "code",
   "execution_count": null,
   "id": "40d1533a",
   "metadata": {},
   "outputs": [],
   "source": []
  }
 ],
 "metadata": {
  "kernelspec": {
   "display_name": "Python 3 (ipykernel)",
   "language": "python",
   "name": "python3"
  },
  "language_info": {
   "codemirror_mode": {
    "name": "ipython",
    "version": 3
   },
   "file_extension": ".py",
   "mimetype": "text/x-python",
   "name": "python",
   "nbconvert_exporter": "python",
   "pygments_lexer": "ipython3",
   "version": "3.9.12"
  }
 },
 "nbformat": 4,
 "nbformat_minor": 5
}
